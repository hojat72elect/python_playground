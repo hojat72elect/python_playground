{
 "cells": [
  {
   "cell_type": "markdown",
   "metadata": {},
   "source": [
    "In this notebook we will show how to calculate the mode of a numpy nd array."
   ]
  },
  {
   "cell_type": "code",
   "execution_count": null,
   "metadata": {},
   "outputs": [
    {
     "data": {
      "text/plain": [
       "array([30, 68, 42, 36, 77, 68, 57, 27, 88, 75, 70, 41, 66, 77, 27, 78, 53,\n",
       "       35, 33, 37, 80, 65, 40, 24, 57, 73, 75, 66, 59, 87, 51, 25, 23, 42,\n",
       "       63, 40, 21, 68, 57, 33, 18, 64, 79, 36, 79, 75, 41, 26, 29, 86, 88,\n",
       "       55, 59, 18, 69, 85, 75, 48, 83, 25, 42, 30, 58, 37, 89, 62, 34, 84,\n",
       "       34, 48, 80, 71, 31, 55, 83, 52, 85, 89, 73, 82, 78, 74, 28, 69, 84,\n",
       "       54, 83, 30, 31, 31, 55, 44, 83, 19, 45, 27, 75, 79, 42, 61, 29, 65,\n",
       "       43, 46, 37, 73, 61, 44, 80, 31, 53, 68, 40, 88, 57, 25, 33, 48, 28,\n",
       "       29, 62, 42, 56, 64, 35, 34, 63, 38, 71, 24, 82, 68, 54, 58, 57, 39,\n",
       "       18, 57, 68, 85, 44, 70, 62, 69, 39, 22, 79, 35, 79, 31, 68, 46, 23,\n",
       "       78, 33, 53, 84, 58, 66, 27, 57, 39, 41, 62, 25, 89, 23, 89, 38, 41,\n",
       "       61, 50, 73, 79, 71, 52, 79, 80, 81, 40, 19, 68, 29, 88, 76, 24, 88,\n",
       "       65, 21, 65, 20, 85, 31, 86, 42, 69, 61, 36, 30, 46, 44, 80, 32, 28,\n",
       "       47, 47, 64, 49, 66, 78, 55, 42, 52, 78, 29, 47, 86, 56, 39, 27, 83,\n",
       "       87, 58, 53, 30, 71, 48, 35, 30, 74, 32, 84, 81, 39, 73, 55, 69, 34,\n",
       "       82, 80, 82, 41, 77, 42, 82, 78, 58, 36, 28, 26, 51, 66, 84, 30, 19,\n",
       "       67, 24, 66, 89, 58, 33, 86, 43, 65, 49, 75, 42, 27, 41, 82, 23, 47,\n",
       "       86, 36, 76, 68, 57, 23, 75, 46, 54, 80, 23, 22, 38, 63, 75, 24, 23,\n",
       "       77, 88, 44, 62, 40, 67, 66, 57, 69, 19, 49, 79, 85, 28, 35, 26, 88,\n",
       "       86, 22, 33, 42, 43, 71, 78, 71, 25, 68, 61, 26, 28, 33, 47, 58, 37,\n",
       "       47, 55, 35, 24, 29, 64, 44, 37, 39, 31, 63, 34, 22, 40, 76, 39, 57,\n",
       "       75, 25, 39, 55, 52, 33, 78, 80, 59, 52, 40, 39, 80, 75, 53, 52, 85,\n",
       "       41, 41, 82, 72, 80, 66, 30, 74, 20, 86, 42, 50, 42, 21, 48, 69, 78,\n",
       "       35, 72, 52, 50, 40, 52, 80, 71, 40, 46, 18, 64, 43, 23, 66, 28, 80,\n",
       "       38, 28, 23, 64, 51, 64, 26, 46, 28, 86, 61, 20, 25, 41, 63, 68, 77,\n",
       "       28, 33, 51, 42, 72, 75, 80, 88, 24, 67, 36, 70, 88, 38, 64, 50, 75,\n",
       "       54, 72, 19, 42, 43, 43, 79, 60, 19, 49, 27, 32, 50, 54, 72, 33, 26,\n",
       "       87, 80, 70, 76, 58, 81, 70, 58, 68, 66, 56, 49, 43, 44, 64, 28, 84,\n",
       "       51, 34, 54, 81, 51, 21, 69, 74, 71, 58, 73, 47, 41, 77, 43, 81, 85,\n",
       "       72, 77, 44, 34, 83, 42, 55, 75, 48, 53, 85, 26, 87, 78, 29, 37, 83,\n",
       "       59, 22, 29, 41, 50, 61, 64], dtype=int32)"
      ]
     },
     "execution_count": 1,
     "metadata": {},
     "output_type": "execute_result"
    }
   ],
   "source": [
    "import numpy\n",
    "\n",
    "ages = numpy.random.randint(low=18, high=90, size=500) # 500 random integers between 18 and 90 (both included)\n",
    "ages"
   ]
  },
  {
   "cell_type": "code",
   "execution_count": 2,
   "metadata": {},
   "outputs": [
    {
     "data": {
      "text/plain": [
       "ModeResult(mode=np.int32(42), count=np.int64(15))"
      ]
     },
     "execution_count": 2,
     "metadata": {},
     "output_type": "execute_result"
    }
   ],
   "source": [
    "import scipy.stats\n",
    "\n",
    "\n",
    "ages_mode = scipy.stats.mode(ages)\n",
    "ages_mode"
   ]
  },
  {
   "cell_type": "code",
   "execution_count": 3,
   "metadata": {},
   "outputs": [
    {
     "data": {
      "text/plain": [
       "np.int32(42)"
      ]
     },
     "execution_count": 3,
     "metadata": {},
     "output_type": "execute_result"
    }
   ],
   "source": [
    "ages_mode.mode"
   ]
  },
  {
   "cell_type": "code",
   "execution_count": 4,
   "metadata": {},
   "outputs": [
    {
     "data": {
      "text/plain": [
       "np.int64(15)"
      ]
     },
     "execution_count": 4,
     "metadata": {},
     "output_type": "execute_result"
    }
   ],
   "source": [
    "ages_mode.count"
   ]
  },
  {
   "cell_type": "code",
   "execution_count": null,
   "metadata": {},
   "outputs": [],
   "source": []
  }
 ],
 "metadata": {
  "kernelspec": {
   "display_name": ".venv",
   "language": "python",
   "name": "python3"
  },
  "language_info": {
   "codemirror_mode": {
    "name": "ipython",
    "version": 3
   },
   "file_extension": ".py",
   "mimetype": "text/x-python",
   "name": "python",
   "nbconvert_exporter": "python",
   "pygments_lexer": "ipython3",
   "version": "3.13.1"
  }
 },
 "nbformat": 4,
 "nbformat_minor": 2
}
