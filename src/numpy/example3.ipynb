{
 "cells": [
  {
   "cell_type": "markdown",
   "metadata": {},
   "source": [
    "calculating the mean of a numpy nd array."
   ]
  },
  {
   "cell_type": "code",
   "execution_count": 2,
   "metadata": {},
   "outputs": [
    {
     "data": {
      "text/plain": [
       "array([36740.29561399, 35009.30139462, 11566.16317435, ...,\n",
       "       37486.2785698 , 41484.67761931, 37259.74210576], shape=(10000,))"
      ]
     },
     "execution_count": 2,
     "metadata": {},
     "output_type": "execute_result"
    }
   ],
   "source": [
    "import numpy\n",
    "\n",
    "example_incomes = numpy.random.normal(27_000, 15_000, 10_000)\n",
    "example_incomes"
   ]
  },
  {
   "cell_type": "code",
   "execution_count": 3,
   "metadata": {},
   "outputs": [
    {
     "data": {
      "text/plain": [
       "(100, 100)"
      ]
     },
     "execution_count": 3,
     "metadata": {},
     "output_type": "execute_result"
    }
   ],
   "source": [
    "example_incomes.shape = (100, 100)\n",
    "example_incomes.shape"
   ]
  },
  {
   "cell_type": "code",
   "execution_count": 4,
   "metadata": {},
   "outputs": [
    {
     "data": {
      "text/plain": [
       "array([[ 36740.29561399,  35009.30139462,  11566.16317435, ...,\n",
       "         47739.17566682,  30168.15933096,  31268.07928084],\n",
       "       [ 29740.39918392,   3477.09808829,  39588.70963742, ...,\n",
       "         10221.93286095,  27071.22176971,  25701.01942335],\n",
       "       [ 29579.19520682,   1602.68656381,  14473.33440998, ...,\n",
       "         41343.2423212 ,  45269.60464463,  43324.80656774],\n",
       "       ...,\n",
       "       [ 64200.5455091 ,  51227.74077878,  33417.04365231, ...,\n",
       "         21056.14430693,  19685.42664659,  61154.1958279 ],\n",
       "       [ 33106.32941068,  55365.58790396,  25154.52511709, ...,\n",
       "         38352.17063927,  27416.51603974,   8729.96267423],\n",
       "       [ 17425.8813435 ,  40670.29668121, -13137.7873344 , ...,\n",
       "         37486.2785698 ,  41484.67761931,  37259.74210576]],\n",
       "      shape=(100, 100))"
      ]
     },
     "execution_count": 4,
     "metadata": {},
     "output_type": "execute_result"
    }
   ],
   "source": [
    "example_incomes"
   ]
  },
  {
   "cell_type": "code",
   "execution_count": 5,
   "metadata": {},
   "outputs": [
    {
     "data": {
      "text/plain": [
       "np.float64(26997.83708006296)"
      ]
     },
     "execution_count": 5,
     "metadata": {},
     "output_type": "execute_result"
    }
   ],
   "source": [
    "incomes_mean = numpy.mean(example_incomes)\n",
    "incomes_mean"
   ]
  },
  {
   "cell_type": "markdown",
   "metadata": {},
   "source": [
    "Lets show all of this data with matplotlib"
   ]
  },
  {
   "cell_type": "code",
   "execution_count": 6,
   "metadata": {},
   "outputs": [
    {
     "data": {
      "image/png": "[encoded data removed]",
      "text/plain": [
       "<Figure size 640x480 with 1 Axes>"
      ]
     },
     "metadata": {},
     "output_type": "display_data"
    }
   ],
   "source": [
    "import matplotlib.pyplot\n",
    "\n",
    "matplotlib.pyplot.hist(x =example_incomes, bins = 50)\n",
    "matplotlib.pyplot.show()"
   ]
  },
  {
   "cell_type": "markdown",
   "metadata": {},
   "source": [
    "And how we can calculate median of our data in a numpy nd array?"
   ]
  },
  {
   "cell_type": "code",
   "execution_count": 7,
   "metadata": {},
   "outputs": [
    {
     "data": {
      "text/plain": [
       "np.float64(27054.872968512893)"
      ]
     },
     "execution_count": 7,
     "metadata": {},
     "output_type": "execute_result"
    }
   ],
   "source": [
    "incomes_median = numpy.median(example_incomes)\n",
    "incomes_median"
   ]
  },
  {
   "cell_type": "code",
   "execution_count": 8,
   "metadata": {},
   "outputs": [
    {
     "data": {
      "text/plain": [
       "(10001,)"
      ]
     },
     "execution_count": 8,
     "metadata": {},
     "output_type": "execute_result"
    }
   ],
   "source": [
    "# Now lets add a weird outlier to our dataset\n",
    "example_incomes = numpy.append(example_incomes, [1_000_000_000])\n",
    "example_incomes.shape"
   ]
  },
  {
   "cell_type": "code",
   "execution_count": 9,
   "metadata": {},
   "outputs": [
    {
     "data": {
      "text/plain": [
       "np.float64(27058.404614023166)"
      ]
     },
     "execution_count": 9,
     "metadata": {},
     "output_type": "execute_result"
    }
   ],
   "source": [
    "# the outlier is not going to change the median:\n",
    "numpy.median(example_incomes)"
   ]
  },
  {
   "cell_type": "code",
   "execution_count": 10,
   "metadata": {},
   "outputs": [
    {
     "data": {
      "text/plain": [
       "np.float64(126985.13856620634)"
      ]
     },
     "execution_count": 10,
     "metadata": {},
     "output_type": "execute_result"
    }
   ],
   "source": [
    "# But the mean will be affected:\n",
    "numpy.mean(example_incomes)"
   ]
  },
  {
   "cell_type": "code",
   "execution_count": null,
   "metadata": {},
   "outputs": [],
   "source": []
  }
 ],
 "metadata": {
  "kernelspec": {
   "display_name": ".venv",
   "language": "python",
   "name": "python3"
  },
  "language_info": {
   "codemirror_mode": {
    "name": "ipython",
    "version": 3
   },
   "file_extension": ".py",
   "mimetype": "text/x-python",
   "name": "python",
   "nbconvert_exporter": "python",
   "pygments_lexer": "ipython3",
   "version": "3.13.1"
  }
 },
 "nbformat": 4,
 "nbformat_minor": 2
}
