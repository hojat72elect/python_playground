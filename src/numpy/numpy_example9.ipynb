{
 "cells": [
  {
   "cell_type": "code",
   "execution_count": 1,
   "id": "bc14acd1",
   "metadata": {},
   "outputs": [
    {
     "data": {
      "text/plain": [
       "array([[1, 2, 3],\n",
       "       [3, 8, 4],\n",
       "       [7, 5, 6]])"
      ]
     },
     "execution_count": 1,
     "metadata": {},
     "output_type": "execute_result"
    }
   ],
   "source": [
    "import numpy as np\n",
    "\n",
    "a = np.array([1, 2, 3, 3, 8, 4, 7, 5, 6]).reshape((3, 3))\n",
    "a"
   ]
  },
  {
   "cell_type": "code",
   "execution_count": null,
   "id": "259bf512",
   "metadata": {},
   "outputs": [
    {
     "data": {
      "text/plain": [
       "array([8, 7, 5, 6])"
      ]
     },
     "execution_count": 2,
     "metadata": {},
     "output_type": "execute_result"
    }
   ],
   "source": [
    "# A new matrix with elements of a which were greater than 4\n",
    "\n",
    "filtered_a = a[a>4]\n",
    "filtered_a"
   ]
  },
  {
   "cell_type": "code",
   "execution_count": null,
   "id": "55831e5d",
   "metadata": {},
   "outputs": [
    {
     "data": {
      "text/plain": [
       "array([[1, 2, 3],\n",
       "       [3, 0, 4],\n",
       "       [0, 0, 0]])"
      ]
     },
     "execution_count": 3,
     "metadata": {},
     "output_type": "execute_result"
    }
   ],
   "source": [
    "a[a > 4] = 0\n",
    "a"
   ]
  },
  {
   "cell_type": "code",
   "execution_count": 5,
   "id": "d3670090",
   "metadata": {},
   "outputs": [
    {
     "data": {
      "text/plain": [
       "array([[  1,   2,   3,   3,   8,   4],\n",
       "       [  7,   5,   6,   8,   3,   7],\n",
       "       [  4,   6,   5,   3,   4,   0],\n",
       "       [  8,   9,   6,   5, -23,   7]])"
      ]
     },
     "execution_count": 5,
     "metadata": {},
     "output_type": "execute_result"
    }
   ],
   "source": [
    "b = np.array([1, 2, 3, 3, 8, 4, 7, 5, 6, 8, 3, 7, 4, 6, 5, 3, 4, 0, 8, 9, 6, 5, -23, 7]).reshape((4, 6))\n",
    "b\n"
   ]
  },
  {
   "cell_type": "code",
   "execution_count": 6,
   "id": "2c1c284d",
   "metadata": {},
   "outputs": [
    {
     "data": {
      "text/plain": [
       "array([[1, 2, 3, 3, 5, 4],\n",
       "       [5, 5, 5, 5, 3, 5],\n",
       "       [4, 5, 5, 3, 4, 1],\n",
       "       [5, 5, 5, 5, 1, 5]])"
      ]
     },
     "execution_count": 6,
     "metadata": {},
     "output_type": "execute_result"
    }
   ],
   "source": [
    "b.clip(1, 5)"
   ]
  }
 ],
 "metadata": {
  "kernelspec": {
   "display_name": ".venv",
   "language": "python",
   "name": "python3"
  },
  "language_info": {
   "codemirror_mode": {
    "name": "ipython",
    "version": 3
   },
   "file_extension": ".py",
   "mimetype": "text/x-python",
   "name": "python",
   "nbconvert_exporter": "python",
   "pygments_lexer": "ipython3",
   "version": "3.13.1"
  }
 },
 "nbformat": 4,
 "nbformat_minor": 5
}
