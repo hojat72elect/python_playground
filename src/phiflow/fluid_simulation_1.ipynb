{
 "cells": [
  {
   "cell_type": "code",
   "id": "initial_id",
   "metadata": {
    "collapsed": true,
    "ExecuteTime": {
     "end_time": "2025-03-03T04:57:42.718101Z",
     "start_time": "2025-03-03T04:57:42.715062Z"
    }
   },
   "source": [
    "import phi.flow\n",
    "import matplotlib.pyplot"
   ],
   "outputs": [],
   "execution_count": 8
  },
  {
   "metadata": {
    "ExecuteTime": {
     "end_time": "2025-03-03T04:57:44.161329Z",
     "start_time": "2025-03-03T04:57:44.146283Z"
    }
   },
   "cell_type": "code",
   "source": [
    "v = phi.flow.StaggeredGrid(\n",
    "    values = lambda pos: phi.flow.vec(\n",
    "        x = phi.flow.math.cos(pos).vector[\"x\"] * phi.flow.math.sin(pos).vector[\"y\"],\n",
    "        y = -phi.flow.math.sin(pos).vector[\"x\"] * phi.flow.math.cos(pos).vector[\"y\"],\n",
    "    ),\n",
    "    extrapolation = phi.flow.extrapolation.PERIODIC,\n",
    "    x = 25,\n",
    "    y = 25,\n",
    "    bounds = phi.flow.Box(x = 2 * phi.flow.PI, y = 2 * phi.flow.PI),\n",
    ")"
   ],
   "id": "5b96717d08bcfe96",
   "outputs": [],
   "execution_count": 9
  },
  {
   "metadata": {
    "ExecuteTime": {
     "end_time": "2025-03-03T04:58:13.757061Z",
     "start_time": "2025-03-03T04:58:13.754417Z"
    }
   },
   "cell_type": "code",
   "source": "matplotlib.pyplot.style.use(\"dark_background\")\n",
   "id": "ca601b430a43c9b6",
   "outputs": [],
   "execution_count": 11
  },
  {
   "metadata": {
    "ExecuteTime": {
     "end_time": "2025-03-03T04:58:16.812664Z",
     "start_time": "2025-03-03T04:58:16.680618Z"
    }
   },
   "cell_type": "code",
   "source": "matplotlib.pyplot.plot(v)",
   "id": "179b247fd0ab345f",
   "outputs": [
    {
     "ename": "ValueError",
     "evalue": "setting an array element with a sequence.",
     "output_type": "error",
     "traceback": [
      "\u001B[31m---------------------------------------------------------------------------\u001B[39m",
      "\u001B[31mTypeError\u001B[39m                                 Traceback (most recent call last)",
      "\u001B[31mTypeError\u001B[39m: float() argument must be a string or a real number, not 'Field'",
      "\nThe above exception was the direct cause of the following exception:\n",
      "\u001B[31mValueError\u001B[39m                                Traceback (most recent call last)",
      "\u001B[36mCell\u001B[39m\u001B[36m \u001B[39m\u001B[32mIn[12]\u001B[39m\u001B[32m, line 1\u001B[39m\n\u001B[32m----> \u001B[39m\u001B[32m1\u001B[39m \u001B[43mmatplotlib\u001B[49m\u001B[43m.\u001B[49m\u001B[43mpyplot\u001B[49m\u001B[43m.\u001B[49m\u001B[43mplot\u001B[49m\u001B[43m(\u001B[49m\u001B[43mv\u001B[49m\u001B[43m)\u001B[49m\n",
      "\u001B[36mFile \u001B[39m\u001B[32mD:\\Dev\\Python\\Repositories\\python_playground\\.venv\\Lib\\site-packages\\matplotlib\\pyplot.py:3827\u001B[39m, in \u001B[36mplot\u001B[39m\u001B[34m(scalex, scaley, data, *args, **kwargs)\u001B[39m\n\u001B[32m   3819\u001B[39m \u001B[38;5;129m@_copy_docstring_and_deprecators\u001B[39m(Axes.plot)\n\u001B[32m   3820\u001B[39m \u001B[38;5;28;01mdef\u001B[39;00m\u001B[38;5;250m \u001B[39m\u001B[34mplot\u001B[39m(\n\u001B[32m   3821\u001B[39m     *args: \u001B[38;5;28mfloat\u001B[39m | ArrayLike | \u001B[38;5;28mstr\u001B[39m,\n\u001B[32m   (...)\u001B[39m\u001B[32m   3825\u001B[39m     **kwargs,\n\u001B[32m   3826\u001B[39m ) -> \u001B[38;5;28mlist\u001B[39m[Line2D]:\n\u001B[32m-> \u001B[39m\u001B[32m3827\u001B[39m     \u001B[38;5;28;01mreturn\u001B[39;00m \u001B[43mgca\u001B[49m\u001B[43m(\u001B[49m\u001B[43m)\u001B[49m\u001B[43m.\u001B[49m\u001B[43mplot\u001B[49m\u001B[43m(\u001B[49m\n\u001B[32m   3828\u001B[39m \u001B[43m        \u001B[49m\u001B[43m*\u001B[49m\u001B[43margs\u001B[49m\u001B[43m,\u001B[49m\n\u001B[32m   3829\u001B[39m \u001B[43m        \u001B[49m\u001B[43mscalex\u001B[49m\u001B[43m=\u001B[49m\u001B[43mscalex\u001B[49m\u001B[43m,\u001B[49m\n\u001B[32m   3830\u001B[39m \u001B[43m        \u001B[49m\u001B[43mscaley\u001B[49m\u001B[43m=\u001B[49m\u001B[43mscaley\u001B[49m\u001B[43m,\u001B[49m\n\u001B[32m   3831\u001B[39m \u001B[43m        \u001B[49m\u001B[43m*\u001B[49m\u001B[43m*\u001B[49m\u001B[43m(\u001B[49m\u001B[43m{\u001B[49m\u001B[33;43m\"\u001B[39;49m\u001B[33;43mdata\u001B[39;49m\u001B[33;43m\"\u001B[39;49m\u001B[43m:\u001B[49m\u001B[43m \u001B[49m\u001B[43mdata\u001B[49m\u001B[43m}\u001B[49m\u001B[43m \u001B[49m\u001B[38;5;28;43;01mif\u001B[39;49;00m\u001B[43m \u001B[49m\u001B[43mdata\u001B[49m\u001B[43m \u001B[49m\u001B[38;5;129;43;01mis\u001B[39;49;00m\u001B[43m \u001B[49m\u001B[38;5;129;43;01mnot\u001B[39;49;00m\u001B[43m \u001B[49m\u001B[38;5;28;43;01mNone\u001B[39;49;00m\u001B[43m \u001B[49m\u001B[38;5;28;43;01melse\u001B[39;49;00m\u001B[43m \u001B[49m\u001B[43m{\u001B[49m\u001B[43m}\u001B[49m\u001B[43m)\u001B[49m\u001B[43m,\u001B[49m\n\u001B[32m   3832\u001B[39m \u001B[43m        \u001B[49m\u001B[43m*\u001B[49m\u001B[43m*\u001B[49m\u001B[43mkwargs\u001B[49m\u001B[43m,\u001B[49m\n\u001B[32m   3833\u001B[39m \u001B[43m    \u001B[49m\u001B[43m)\u001B[49m\n",
      "\u001B[36mFile \u001B[39m\u001B[32mD:\\Dev\\Python\\Repositories\\python_playground\\.venv\\Lib\\site-packages\\matplotlib\\axes\\_axes.py:1779\u001B[39m, in \u001B[36mAxes.plot\u001B[39m\u001B[34m(self, scalex, scaley, data, *args, **kwargs)\u001B[39m\n\u001B[32m   1777\u001B[39m lines = [*\u001B[38;5;28mself\u001B[39m._get_lines(\u001B[38;5;28mself\u001B[39m, *args, data=data, **kwargs)]\n\u001B[32m   1778\u001B[39m \u001B[38;5;28;01mfor\u001B[39;00m line \u001B[38;5;129;01min\u001B[39;00m lines:\n\u001B[32m-> \u001B[39m\u001B[32m1779\u001B[39m     \u001B[38;5;28;43mself\u001B[39;49m\u001B[43m.\u001B[49m\u001B[43madd_line\u001B[49m\u001B[43m(\u001B[49m\u001B[43mline\u001B[49m\u001B[43m)\u001B[49m\n\u001B[32m   1780\u001B[39m \u001B[38;5;28;01mif\u001B[39;00m scalex:\n\u001B[32m   1781\u001B[39m     \u001B[38;5;28mself\u001B[39m._request_autoscale_view(\u001B[33m\"\u001B[39m\u001B[33mx\u001B[39m\u001B[33m\"\u001B[39m)\n",
      "\u001B[36mFile \u001B[39m\u001B[32mD:\\Dev\\Python\\Repositories\\python_playground\\.venv\\Lib\\site-packages\\matplotlib\\axes\\_base.py:2401\u001B[39m, in \u001B[36m_AxesBase.add_line\u001B[39m\u001B[34m(self, line)\u001B[39m\n\u001B[32m   2398\u001B[39m \u001B[38;5;28;01mif\u001B[39;00m line.get_clip_path() \u001B[38;5;129;01mis\u001B[39;00m \u001B[38;5;28;01mNone\u001B[39;00m:\n\u001B[32m   2399\u001B[39m     line.set_clip_path(\u001B[38;5;28mself\u001B[39m.patch)\n\u001B[32m-> \u001B[39m\u001B[32m2401\u001B[39m \u001B[38;5;28;43mself\u001B[39;49m\u001B[43m.\u001B[49m\u001B[43m_update_line_limits\u001B[49m\u001B[43m(\u001B[49m\u001B[43mline\u001B[49m\u001B[43m)\u001B[49m\n\u001B[32m   2402\u001B[39m \u001B[38;5;28;01mif\u001B[39;00m \u001B[38;5;129;01mnot\u001B[39;00m line.get_label():\n\u001B[32m   2403\u001B[39m     line.set_label(\u001B[33mf\u001B[39m\u001B[33m'\u001B[39m\u001B[33m_child\u001B[39m\u001B[38;5;132;01m{\u001B[39;00m\u001B[38;5;28mlen\u001B[39m(\u001B[38;5;28mself\u001B[39m._children)\u001B[38;5;132;01m}\u001B[39;00m\u001B[33m'\u001B[39m)\n",
      "\u001B[36mFile \u001B[39m\u001B[32mD:\\Dev\\Python\\Repositories\\python_playground\\.venv\\Lib\\site-packages\\matplotlib\\axes\\_base.py:2424\u001B[39m, in \u001B[36m_AxesBase._update_line_limits\u001B[39m\u001B[34m(self, line)\u001B[39m\n\u001B[32m   2420\u001B[39m \u001B[38;5;28;01mdef\u001B[39;00m\u001B[38;5;250m \u001B[39m\u001B[34m_update_line_limits\u001B[39m(\u001B[38;5;28mself\u001B[39m, line):\n\u001B[32m   2421\u001B[39m \u001B[38;5;250m    \u001B[39m\u001B[33;03m\"\"\"\u001B[39;00m\n\u001B[32m   2422\u001B[39m \u001B[33;03m    Figures out the data limit of the given line, updating `.Axes.dataLim`.\u001B[39;00m\n\u001B[32m   2423\u001B[39m \u001B[33;03m    \"\"\"\u001B[39;00m\n\u001B[32m-> \u001B[39m\u001B[32m2424\u001B[39m     path = \u001B[43mline\u001B[49m\u001B[43m.\u001B[49m\u001B[43mget_path\u001B[49m\u001B[43m(\u001B[49m\u001B[43m)\u001B[49m\n\u001B[32m   2425\u001B[39m     \u001B[38;5;28;01mif\u001B[39;00m path.vertices.size == \u001B[32m0\u001B[39m:\n\u001B[32m   2426\u001B[39m         \u001B[38;5;28;01mreturn\u001B[39;00m\n",
      "\u001B[36mFile \u001B[39m\u001B[32mD:\\Dev\\Python\\Repositories\\python_playground\\.venv\\Lib\\site-packages\\matplotlib\\lines.py:1038\u001B[39m, in \u001B[36mLine2D.get_path\u001B[39m\u001B[34m(self)\u001B[39m\n\u001B[32m   1036\u001B[39m \u001B[38;5;250m\u001B[39m\u001B[33;03m\"\"\"Return the `~matplotlib.path.Path` associated with this line.\"\"\"\u001B[39;00m\n\u001B[32m   1037\u001B[39m \u001B[38;5;28;01mif\u001B[39;00m \u001B[38;5;28mself\u001B[39m._invalidy \u001B[38;5;129;01mor\u001B[39;00m \u001B[38;5;28mself\u001B[39m._invalidx:\n\u001B[32m-> \u001B[39m\u001B[32m1038\u001B[39m     \u001B[38;5;28;43mself\u001B[39;49m\u001B[43m.\u001B[49m\u001B[43mrecache\u001B[49m\u001B[43m(\u001B[49m\u001B[43m)\u001B[49m\n\u001B[32m   1039\u001B[39m \u001B[38;5;28;01mreturn\u001B[39;00m \u001B[38;5;28mself\u001B[39m._path\n",
      "\u001B[36mFile \u001B[39m\u001B[32mD:\\Dev\\Python\\Repositories\\python_playground\\.venv\\Lib\\site-packages\\matplotlib\\lines.py:680\u001B[39m, in \u001B[36mLine2D.recache\u001B[39m\u001B[34m(self, always)\u001B[39m\n\u001B[32m    678\u001B[39m \u001B[38;5;28;01mif\u001B[39;00m always \u001B[38;5;129;01mor\u001B[39;00m \u001B[38;5;28mself\u001B[39m._invalidy:\n\u001B[32m    679\u001B[39m     yconv = \u001B[38;5;28mself\u001B[39m.convert_yunits(\u001B[38;5;28mself\u001B[39m._yorig)\n\u001B[32m--> \u001B[39m\u001B[32m680\u001B[39m     y = \u001B[43m_to_unmasked_float_array\u001B[49m\u001B[43m(\u001B[49m\u001B[43myconv\u001B[49m\u001B[43m)\u001B[49m.ravel()\n\u001B[32m    681\u001B[39m \u001B[38;5;28;01melse\u001B[39;00m:\n\u001B[32m    682\u001B[39m     y = \u001B[38;5;28mself\u001B[39m._y\n",
      "\u001B[36mFile \u001B[39m\u001B[32mD:\\Dev\\Python\\Repositories\\python_playground\\.venv\\Lib\\site-packages\\matplotlib\\cbook.py:1355\u001B[39m, in \u001B[36m_to_unmasked_float_array\u001B[39m\u001B[34m(x)\u001B[39m\n\u001B[32m   1353\u001B[39m     \u001B[38;5;28;01mreturn\u001B[39;00m np.ma.asarray(x, \u001B[38;5;28mfloat\u001B[39m).filled(np.nan)\n\u001B[32m   1354\u001B[39m \u001B[38;5;28;01melse\u001B[39;00m:\n\u001B[32m-> \u001B[39m\u001B[32m1355\u001B[39m     \u001B[38;5;28;01mreturn\u001B[39;00m \u001B[43mnp\u001B[49m\u001B[43m.\u001B[49m\u001B[43masarray\u001B[49m\u001B[43m(\u001B[49m\u001B[43mx\u001B[49m\u001B[43m,\u001B[49m\u001B[43m \u001B[49m\u001B[38;5;28;43mfloat\u001B[39;49m\u001B[43m)\u001B[49m\n",
      "\u001B[31mValueError\u001B[39m: setting an array element with a sequence."
     ]
    },
    {
     "data": {
      "text/plain": [
       "<Figure size 640x480 with 1 Axes>"
      ],
      "image/png": "[encoded data removed]"
     },
     "metadata": {},
     "output_type": "display_data"
    }
   ],
   "execution_count": 12
  },
  {
   "metadata": {},
   "cell_type": "code",
   "outputs": [],
   "execution_count": null,
   "source": "",
   "id": "4e951ec00b9badb"
  }
 ],
 "metadata": {
  "kernelspec": {
   "display_name": "Python 3",
   "language": "python",
   "name": "python3"
  },
  "language_info": {
   "codemirror_mode": {
    "name": "ipython",
    "version": 2
   },
   "file_extension": ".py",
   "mimetype": "text/x-python",
   "name": "python",
   "nbconvert_exporter": "python",
   "pygments_lexer": "ipython2",
   "version": "2.7.6"
  }
 },
 "nbformat": 4,
 "nbformat_minor": 5
}
