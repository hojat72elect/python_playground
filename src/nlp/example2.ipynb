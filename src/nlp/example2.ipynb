{
 "cells": [
  {
   "cell_type": "code",
   "id": "initial_id",
   "metadata": {
    "collapsed": true,
    "ExecuteTime": {
     "end_time": "2025-04-09T08:37:26.504738Z",
     "start_time": "2025-04-09T08:37:06.952914Z"
    }
   },
   "source": "import nltk.book as book",
   "outputs": [
    {
     "name": "stdout",
     "output_type": "stream",
     "text": [
      "*** Introductory Examples for the NLTK Book ***\n",
      "Loading text1, ..., text9 and sent1, ..., sent9\n",
      "Type the name of the text or sentence to view it.\n",
      "Type: 'texts()' or 'sents()' to list the materials.\n",
      "text1: Moby Dick by Herman Melville 1851\n",
      "text2: Sense and Sensibility by Jane Austen 1811\n",
      "text3: The Book of Genesis\n",
      "text4: Inaugural Address Corpus\n",
      "text5: Chat Corpus\n",
      "text6: Monty Python and the Holy Grail\n",
      "text7: Wall Street Journal\n",
      "text8: Personals Corpus\n",
      "text9: The Man Who Was Thursday by G . K . Chesterton 1908\n"
     ]
    }
   ],
   "execution_count": 1
  },
  {
   "metadata": {
    "ExecuteTime": {
     "end_time": "2025-04-09T08:37:26.512175Z",
     "start_time": "2025-04-09T08:37:26.506877Z"
    }
   },
   "cell_type": "code",
   "source": "book.text1",
   "id": "350fb3c3e15135e8",
   "outputs": [
    {
     "data": {
      "text/plain": [
       "<Text: Moby Dick by Herman Melville 1851>"
      ]
     },
     "execution_count": 2,
     "metadata": {},
     "output_type": "execute_result"
    }
   ],
   "execution_count": 2
  },
  {
   "metadata": {
    "ExecuteTime": {
     "end_time": "2025-04-09T08:37:26.516272Z",
     "start_time": "2025-04-09T08:37:26.513568Z"
    }
   },
   "cell_type": "code",
   "source": "book.text2",
   "id": "c2e6668645f6b5a7",
   "outputs": [
    {
     "data": {
      "text/plain": [
       "<Text: Sense and Sensibility by Jane Austen 1811>"
      ]
     },
     "execution_count": 3,
     "metadata": {},
     "output_type": "execute_result"
    }
   ],
   "execution_count": 3
  },
  {
   "metadata": {
    "ExecuteTime": {
     "end_time": "2025-04-09T08:37:26.646093Z",
     "start_time": "2025-04-09T08:37:26.517800Z"
    }
   },
   "cell_type": "code",
   "source": [
    "# How many times the word \"monstrous\" has been mentioned in the moby dick book?\n",
    "book.text1.concordance(\"monstrous\")"
   ],
   "id": "45bc25cfb0fb0204",
   "outputs": [
    {
     "name": "stdout",
     "output_type": "stream",
     "text": [
      "Displaying 11 of 11 matches:\n",
      "ong the former , one was of a most monstrous size . ... This came towards us , \n",
      "ON OF THE PSALMS . \" Touching that monstrous bulk of the whale or ork we have r\n",
      "ll over with a heathenish array of monstrous clubs and spears . Some were thick\n",
      "d as you gazed , and wondered what monstrous cannibal and savage could ever hav\n",
      "that has survived the flood ; most monstrous and most mountainous ! That Himmal\n",
      "they might scout at Moby Dick as a monstrous fable , or still worse and more de\n",
      "th of Radney .'\" CHAPTER 55 Of the Monstrous Pictures of Whales . I shall ere l\n",
      "ing Scenes . In connexion with the monstrous pictures of whales , I am strongly\n",
      "ere to enter upon those still more monstrous stories of them which are to be fo\n",
      "ght have been rummaged out of this monstrous cabinet there is no telling . But \n",
      "of Whale - Bones ; for Whales of a monstrous size are oftentimes cast up dead u\n"
     ]
    }
   ],
   "execution_count": 4
  },
  {
   "metadata": {
    "ExecuteTime": {
     "end_time": "2025-04-09T08:37:26.651772Z",
     "start_time": "2025-04-09T08:37:26.647746Z"
    }
   },
   "cell_type": "code",
   "source": "book.text5",
   "id": "8b2fabadf7f60375",
   "outputs": [
    {
     "data": {
      "text/plain": [
       "<Text: Chat Corpus>"
      ]
     },
     "execution_count": 5,
     "metadata": {},
     "output_type": "execute_result"
    }
   ],
   "execution_count": 5
  },
  {
   "metadata": {
    "ExecuteTime": {
     "end_time": "2025-04-09T08:37:26.661581Z",
     "start_time": "2025-04-09T08:37:26.653221Z"
    }
   },
   "cell_type": "code",
   "source": "book.text5.concordance(\"junk\")",
   "id": "94f6b0eddc9496f4",
   "outputs": [
    {
     "name": "stdout",
     "output_type": "stream",
     "text": [
      "Displaying 1 of 1 matches:\n",
      " with me ! 20 . Question :. Favorite junk food besides candy ? JOIN U31 why ar\n"
     ]
    }
   ],
   "execution_count": 6
  },
  {
   "metadata": {
    "ExecuteTime": {
     "end_time": "2025-04-09T08:37:26.668807Z",
     "start_time": "2025-04-09T08:37:26.663549Z"
    }
   },
   "cell_type": "code",
   "source": "book.text5.concordance(\"sex\")",
   "id": "879355478e2bf2f7",
   "outputs": [
    {
     "name": "stdout",
     "output_type": "stream",
     "text": [
      "Displaying 10 of 10 matches:\n",
      "9 ... you married ? lol hell no , u ? sex , drugs and rock n roll PART lol U19 \n",
      "the rock and roll .... definitley the sex .... lol yeppers ya drugs r bad i sin\n",
      "any of you were attracted to the same sex JOIN oh man , they just xxxed it muh \n",
      " to go lol U69 is a gimp yea .. and ! sex lol ! lick U65 youuu can touch you ca\n",
      "4 sweet yeah U69 you have to make a ! sex or at least ! molest one good yeah I \n",
      "e fluids :) yes I know hmmm ... cyber sex sucks lol ! grope U31 . ACTION watche\n",
      "to bed . Night all SLEEP ... over not sex night ... simular but not hehe lol U6\n",
      "ter take at least a few weeks to work sex take a deep breath think about till y\n",
      "RT whats balck and blue and scared of sex ? me ? haha PART PART Oops . yawn ...\n",
      "ce-and-quiet than excitement ..... so sex is out ;) sing it , U52 I got here fi\n"
     ]
    }
   ],
   "execution_count": 7
  },
  {
   "metadata": {
    "ExecuteTime": {
     "end_time": "2025-04-09T08:37:27.447753Z",
     "start_time": "2025-04-09T08:37:26.670243Z"
    }
   },
   "cell_type": "code",
   "source": [
    "# Search the similar words to a specific text in the given corpus\n",
    "book.text1.similar(\"monstrous\")\n",
    "# here you see similar words to \"monstrous\" in the book \"Moby Dick\""
   ],
   "id": "1e88cbf890fc51ee",
   "outputs": [
    {
     "name": "stdout",
     "output_type": "stream",
     "text": [
      "true contemptible christian abundant few part mean careful puzzled\n",
      "mystifying passing curious loving wise doleful gamesome singular\n",
      "delightfully perilous fearless\n"
     ]
    }
   ],
   "execution_count": 8
  },
  {
   "metadata": {
    "ExecuteTime": {
     "end_time": "2025-04-09T08:37:27.859101Z",
     "start_time": "2025-04-09T08:37:27.449579Z"
    }
   },
   "cell_type": "code",
   "source": [
    "book.text2.similar(\"monstrous\")\n",
    "# And here you see similar words to \"monstrous\" in a book written by Jane Austen."
   ],
   "id": "81f37151c53709b7",
   "outputs": [
    {
     "name": "stdout",
     "output_type": "stream",
     "text": [
      "very so exceedingly heartily a as good great extremely remarkably\n",
      "sweet vast amazingly\n"
     ]
    }
   ],
   "execution_count": 9
  },
  {
   "metadata": {
    "ExecuteTime": {
     "end_time": "2025-04-09T08:37:27.863928Z",
     "start_time": "2025-04-09T08:37:27.860381Z"
    }
   },
   "cell_type": "code",
   "source": [
    "# Let's see the contexts that are shared by words \"monstrous\" and \"very\" in the text2 corpus.\n",
    "book.text2.common_contexts([\"monstrous\", \"very\"])"
   ],
   "id": "bfcc47eb36e320fd",
   "outputs": [
    {
     "name": "stdout",
     "output_type": "stream",
     "text": [
      "am_glad a_pretty a_lucky is_pretty be_glad\n"
     ]
    }
   ],
   "execution_count": 10
  },
  {
   "metadata": {},
   "cell_type": "markdown",
   "source": [
    "Now I want to do the same operations for another example. \n",
    "The words I'm using this time are \"godly\" and \"serene\"."
   ],
   "id": "a5ded53531bed061"
  },
  {
   "metadata": {
    "ExecuteTime": {
     "end_time": "2025-04-09T08:39:48.650771Z",
     "start_time": "2025-04-09T08:39:48.647342Z"
    }
   },
   "cell_type": "code",
   "source": "book.text5.concordance(\"godly\")",
   "id": "4606c80ca3a7abf",
   "outputs": [
    {
     "name": "stdout",
     "output_type": "stream",
     "text": [
      "no matches\n"
     ]
    }
   ],
   "execution_count": 11
  },
  {
   "metadata": {
    "ExecuteTime": {
     "end_time": "2025-04-09T08:39:58.283944Z",
     "start_time": "2025-04-09T08:39:58.279897Z"
    }
   },
   "cell_type": "code",
   "source": "book.text5.concordance(\"serene\")",
   "id": "f70f6a9a9dc8d28c",
   "outputs": [
    {
     "name": "stdout",
     "output_type": "stream",
     "text": [
      "no matches\n"
     ]
    }
   ],
   "execution_count": 12
  },
  {
   "metadata": {
    "ExecuteTime": {
     "end_time": "2025-04-09T08:40:13.709250Z",
     "start_time": "2025-04-09T08:40:13.706171Z"
    }
   },
   "cell_type": "code",
   "source": "book.text1.concordance(\"godly\")",
   "id": "92daf8309ddffa4a",
   "outputs": [
    {
     "name": "stdout",
     "output_type": "stream",
     "text": [
      "Displaying 3 of 3 matches:\n",
      " then heaven help ye ; the spirit of godly gamesomeness is not in ye . A well -\n",
      "llanous likenesses . But look at the godly , honest , unostentatious , hospitab\n",
      "ected sir \"-- said the imperturbable godly - looking Bunger , slightly bowing t\n"
     ]
    }
   ],
   "execution_count": 13
  },
  {
   "metadata": {
    "ExecuteTime": {
     "end_time": "2025-04-09T08:41:04.481754Z",
     "start_time": "2025-04-09T08:41:04.477938Z"
    }
   },
   "cell_type": "code",
   "source": "book.text1.concordance(\"serene\")",
   "id": "9426f0d8f9e44ef",
   "outputs": [
    {
     "name": "stdout",
     "output_type": "stream",
     "text": [
      "Displaying 8 of 8 matches:\n",
      "ecause he seemed to be full of such serene household joy then . I no more felt\n",
      "each other every two hours . In the serene weather of the tropics it is exceed\n",
      "he whale ' s direful wrath into the serene , exasperating sunlight , that smil\n",
      "hrough these latter waters that one serene and moonlight night , when all the \n",
      "mountain torrent we had slid into a serene valley lake . Here the storms in th\n",
      "ion of my youth was answered ; that serene ocean rolled eastwards from me a th\n",
      " any meditative Magian rover , this serene Pacific , once beheld , must ever a\n",
      "yed before . And thus , through the serene tranquillities of the tropical sea \n"
     ]
    }
   ],
   "execution_count": 14
  },
  {
   "metadata": {
    "ExecuteTime": {
     "end_time": "2025-04-09T08:43:29.696090Z",
     "start_time": "2025-04-09T08:43:29.670326Z"
    }
   },
   "cell_type": "code",
   "source": "book.text2.concordance(\"godly\")",
   "id": "522517d66d51d57d",
   "outputs": [
    {
     "name": "stdout",
     "output_type": "stream",
     "text": [
      "no matches\n"
     ]
    }
   ],
   "execution_count": 15
  },
  {
   "metadata": {
    "ExecuteTime": {
     "end_time": "2025-04-09T08:43:45.419898Z",
     "start_time": "2025-04-09T08:43:45.415755Z"
    }
   },
   "cell_type": "code",
   "source": "book.text2.concordance(\"serene\")",
   "id": "ac57503ca119b8b0",
   "outputs": [
    {
     "name": "stdout",
     "output_type": "stream",
     "text": [
      "no matches\n"
     ]
    }
   ],
   "execution_count": 16
  },
  {
   "metadata": {
    "ExecuteTime": {
     "end_time": "2025-04-09T08:44:53.145609Z",
     "start_time": "2025-04-09T08:44:53.074867Z"
    }
   },
   "cell_type": "code",
   "source": "book.text1.similar(\"godly\")",
   "id": "4e924cf45a753839",
   "outputs": [
    {
     "name": "stdout",
     "output_type": "stream",
     "text": [
      "\n"
     ]
    }
   ],
   "execution_count": 18
  },
  {
   "metadata": {
    "ExecuteTime": {
     "end_time": "2025-04-09T08:45:05.817211Z",
     "start_time": "2025-04-09T08:45:05.750016Z"
    }
   },
   "cell_type": "code",
   "source": "book.text1.similar(\"serene\")",
   "id": "bda6ff693d881ac4",
   "outputs": [
    {
     "name": "stdout",
     "output_type": "stream",
     "text": [
      "hand more long lord thing side way ship hundred same arm night only\n",
      "moment another still picture knee else dark\n"
     ]
    }
   ],
   "execution_count": 19
  },
  {
   "metadata": {
    "ExecuteTime": {
     "end_time": "2025-04-09T08:46:04.704283Z",
     "start_time": "2025-04-09T08:46:04.700155Z"
    }
   },
   "cell_type": "code",
   "source": "book.text2.similar(\"godly\")",
   "id": "6e4279f12a8fd249",
   "outputs": [
    {
     "name": "stdout",
     "output_type": "stream",
     "text": [
      "No matches\n"
     ]
    }
   ],
   "execution_count": 20
  },
  {
   "metadata": {
    "ExecuteTime": {
     "end_time": "2025-04-09T08:46:28.067377Z",
     "start_time": "2025-04-09T08:46:28.064283Z"
    }
   },
   "cell_type": "code",
   "source": "book.text2.similar(\"serene\")",
   "id": "ad31a204b232567c",
   "outputs": [
    {
     "name": "stdout",
     "output_type": "stream",
     "text": [
      "No matches\n"
     ]
    }
   ],
   "execution_count": 21
  },
  {
   "metadata": {
    "ExecuteTime": {
     "end_time": "2025-04-09T08:46:42.583060Z",
     "start_time": "2025-04-09T08:46:42.497531Z"
    }
   },
   "cell_type": "code",
   "source": "book.text5.similar(\"godly\")",
   "id": "2702c412301b7cb2",
   "outputs": [
    {
     "name": "stdout",
     "output_type": "stream",
     "text": [
      "No matches\n"
     ]
    }
   ],
   "execution_count": 22
  },
  {
   "metadata": {
    "ExecuteTime": {
     "end_time": "2025-04-09T08:47:01.800278Z",
     "start_time": "2025-04-09T08:47:01.796936Z"
    }
   },
   "cell_type": "code",
   "source": "book.text5.similar(\"serene\")",
   "id": "d324f5ce4e3951e0",
   "outputs": [
    {
     "name": "stdout",
     "output_type": "stream",
     "text": [
      "No matches\n"
     ]
    }
   ],
   "execution_count": 23
  },
  {
   "metadata": {
    "ExecuteTime": {
     "end_time": "2025-04-09T08:47:38.881494Z",
     "start_time": "2025-04-09T08:47:38.878084Z"
    }
   },
   "cell_type": "code",
   "source": "book.text1.common_contexts([\"godly\", \"serene\"])",
   "id": "8ffac91ffe51c7b2",
   "outputs": [
    {
     "name": "stdout",
     "output_type": "stream",
     "text": [
      "No common contexts were found\n"
     ]
    }
   ],
   "execution_count": 24
  },
  {
   "metadata": {
    "ExecuteTime": {
     "end_time": "2025-04-09T08:47:48.863673Z",
     "start_time": "2025-04-09T08:47:48.859950Z"
    }
   },
   "cell_type": "code",
   "source": "book.text2.common_contexts([\"godly\", \"serene\"])",
   "id": "f7a8ee6f18102625",
   "outputs": [
    {
     "name": "stdout",
     "output_type": "stream",
     "text": [
      "('The following word(s) were not found:', 'godly serene')\n"
     ]
    }
   ],
   "execution_count": 25
  },
  {
   "metadata": {
    "ExecuteTime": {
     "end_time": "2025-04-09T08:48:09.635433Z",
     "start_time": "2025-04-09T08:48:09.631665Z"
    }
   },
   "cell_type": "code",
   "source": "book.text5.common_contexts([\"godly\", \"serene\"])",
   "id": "ea27902c8ed2b43b",
   "outputs": [
    {
     "name": "stdout",
     "output_type": "stream",
     "text": [
      "('The following word(s) were not found:', 'godly serene')\n"
     ]
    }
   ],
   "execution_count": 26
  },
  {
   "metadata": {},
   "cell_type": "code",
   "outputs": [],
   "execution_count": null,
   "source": "",
   "id": "191122b532eb1025"
  }
 ],
 "metadata": {
  "kernelspec": {
   "display_name": "Python 3",
   "language": "python",
   "name": "python3"
  },
  "language_info": {
   "codemirror_mode": {
    "name": "ipython",
    "version": 2
   },
   "file_extension": ".py",
   "mimetype": "text/x-python",
   "name": "python",
   "nbconvert_exporter": "python",
   "pygments_lexer": "ipython2",
   "version": "2.7.6"
  }
 },
 "nbformat": 4,
 "nbformat_minor": 5
}
