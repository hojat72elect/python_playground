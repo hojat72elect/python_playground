{
 "cells": [
  {
   "metadata": {},
   "cell_type": "markdown",
   "source": [
    "## Performing more complicated search and filtering in a corpus\n",
    "For example, in the code below, I will extract the words from Moby Dick text that are more than 18 characters."
   ],
   "id": "83f161535d8dcdcf"
  },
  {
   "cell_type": "code",
   "id": "initial_id",
   "metadata": {
    "collapsed": true,
    "ExecuteTime": {
     "end_time": "2025-04-10T09:31:50.752148Z",
     "start_time": "2025-04-10T09:31:33.576837Z"
    }
   },
   "source": "import nltk.book as book",
   "outputs": [
    {
     "name": "stdout",
     "output_type": "stream",
     "text": [
      "*** Introductory Examples for the NLTK Book ***\n",
      "Loading text1, ..., text9 and sent1, ..., sent9\n",
      "Type the name of the text or sentence to view it.\n",
      "Type: 'texts()' or 'sents()' to list the materials.\n",
      "text1: Moby Dick by Herman Melville 1851\n",
      "text2: Sense and Sensibility by Jane Austen 1811\n",
      "text3: The Book of Genesis\n",
      "text4: Inaugural Address Corpus\n",
      "text5: Chat Corpus\n",
      "text6: Monty Python and the Holy Grail\n",
      "text7: Wall Street Journal\n",
      "text8: Personals Corpus\n",
      "text9: The Man Who Was Thursday by G . K . Chesterton 1908\n"
     ]
    }
   ],
   "execution_count": 1
  },
  {
   "metadata": {
    "ExecuteTime": {
     "end_time": "2025-04-10T09:34:02.977118Z",
     "start_time": "2025-04-10T09:34:02.952547Z"
    }
   },
   "cell_type": "code",
   "source": [
    "vocabulary = set(book.text1)\n",
    "long_words = [word for word in vocabulary if len(word) >= 18]\n",
    "sorted(long_words)"
   ],
   "id": "81b0a75ecfb2a375",
   "outputs": [
    {
     "data": {
      "text/plain": [
       "['characteristically', 'uninterpenetratingly']"
      ]
     },
     "execution_count": 7,
     "metadata": {},
     "output_type": "execute_result"
    }
   ],
   "execution_count": 7
  },
  {
   "metadata": {},
   "cell_type": "markdown",
   "source": "#### As another example, lets go through the corpus of informal chats and find the words that are longer than 7 charachters and are repeated more than 7 times.",
   "id": "ccdd0ca49fa30ef5"
  },
  {
   "metadata": {
    "ExecuteTime": {
     "end_time": "2025-04-10T09:43:17.781252Z",
     "start_time": "2025-04-10T09:43:17.763215Z"
    }
   },
   "cell_type": "code",
   "source": [
    "frequency_distribution_5 = book.FreqDist(book.text5)\n",
    "frequent_and_long_words = [word for word in set(book.text5) if len(word) > 7 and frequency_distribution_5[word] > 7]\n",
    "sorted(frequent_and_long_words)"
   ],
   "id": "9ae0989f96c23c5",
   "outputs": [
    {
     "data": {
      "text/plain": [
       "['#14-19teens',\n",
       " '#talkcity_adults',\n",
       " '((((((((((',\n",
       " '........',\n",
       " 'Question',\n",
       " 'actually',\n",
       " 'anything',\n",
       " 'computer',\n",
       " 'cute.-ass',\n",
       " 'everyone',\n",
       " 'football',\n",
       " 'innocent',\n",
       " 'listening',\n",
       " 'remember',\n",
       " 'seriously',\n",
       " 'something',\n",
       " 'together',\n",
       " 'tomorrow',\n",
       " 'watching']"
      ]
     },
     "execution_count": 10,
     "metadata": {},
     "output_type": "execute_result"
    }
   ],
   "execution_count": 10
  },
  {
   "metadata": {},
   "cell_type": "markdown",
   "source": "### This way, we managed to extract some content-bearing words from our corpora.",
   "id": "6f14a5572630d44f"
  }
 ],
 "metadata": {
  "kernelspec": {
   "display_name": "Python 3",
   "language": "python",
   "name": "python3"
  },
  "language_info": {
   "codemirror_mode": {
    "name": "ipython",
    "version": 2
   },
   "file_extension": ".py",
   "mimetype": "text/x-python",
   "name": "python",
   "nbconvert_exporter": "python",
   "pygments_lexer": "ipython2",
   "version": "2.7.6"
  }
 },
 "nbformat": 4,
 "nbformat_minor": 5
}
