{
 "cells": [
  {
   "metadata": {
    "ExecuteTime": {
     "end_time": "2025-04-09T11:31:34.247844Z",
     "start_time": "2025-04-09T11:31:34.244921Z"
    }
   },
   "cell_type": "code",
   "source": "import nltk.book as book",
   "id": "2e36694f74fcb68a",
   "outputs": [],
   "execution_count": 18
  },
  {
   "metadata": {},
   "cell_type": "markdown",
   "source": "#  in Python, we prefer to think of a text as a list of strings.",
   "id": "a3c3b92e45712480"
  },
  {
   "cell_type": "code",
   "id": "initial_id",
   "metadata": {
    "collapsed": true,
    "ExecuteTime": {
     "end_time": "2025-04-09T11:31:34.272758Z",
     "start_time": "2025-04-09T11:31:34.269272Z"
    }
   },
   "source": [
    "def lexical_diversity(text: list[str]):\n",
    "    return len(set(text)) / len(text)"
   ],
   "outputs": [],
   "execution_count": 19
  },
  {
   "metadata": {},
   "cell_type": "markdown",
   "source": "# Now let's see the opening sentence for each one of our corpora",
   "id": "d681b03243ab8fec"
  },
  {
   "metadata": {
    "ExecuteTime": {
     "end_time": "2025-04-09T11:31:34.277827Z",
     "start_time": "2025-04-09T11:31:34.274226Z"
    }
   },
   "cell_type": "code",
   "source": "book.sents()",
   "id": "79113aa45ad17e8f",
   "outputs": [
    {
     "name": "stdout",
     "output_type": "stream",
     "text": [
      "sent1: Call me Ishmael .\n",
      "sent2: The family of Dashwood had long been settled in Sussex .\n",
      "sent3: In the beginning God created the heaven and the earth .\n",
      "sent4: Fellow - Citizens of the Senate and of the House of Representatives :\n",
      "sent5: I have a problem with people PMing me to lol JOIN\n",
      "sent6: SCENE 1 : [ wind ] [ clop clop clop ] KING ARTHUR : Whoa there !\n",
      "sent7: Pierre Vinken , 61 years old , will join the board as a nonexecutive director Nov. 29 .\n",
      "sent8: 25 SEXY MALE , seeks attrac older single lady , for discreet encounters .\n",
      "sent9: THE suburb of Saffron Park lay on the sunset side of London , as red and ragged as a cloud of sunset .\n"
     ]
    }
   ],
   "execution_count": 20
  },
  {
   "metadata": {
    "ExecuteTime": {
     "end_time": "2025-04-09T11:31:34.282845Z",
     "start_time": "2025-04-09T11:31:34.279121Z"
    }
   },
   "cell_type": "code",
   "source": "book.sent1",
   "id": "50feb199af667c26",
   "outputs": [
    {
     "data": {
      "text/plain": [
       "['Call', 'me', 'Ishmael', '.']"
      ]
     },
     "execution_count": 21,
     "metadata": {},
     "output_type": "execute_result"
    }
   ],
   "execution_count": 21
  },
  {
   "metadata": {
    "ExecuteTime": {
     "end_time": "2025-04-09T11:31:34.288456Z",
     "start_time": "2025-04-09T11:31:34.284629Z"
    }
   },
   "cell_type": "code",
   "source": "len(book.sent1)",
   "id": "c050f5835cf202c3",
   "outputs": [
    {
     "data": {
      "text/plain": [
       "4"
      ]
     },
     "execution_count": 22,
     "metadata": {},
     "output_type": "execute_result"
    }
   ],
   "execution_count": 22
  },
  {
   "metadata": {
    "ExecuteTime": {
     "end_time": "2025-04-09T11:31:34.292739Z",
     "start_time": "2025-04-09T11:31:34.289629Z"
    }
   },
   "cell_type": "code",
   "source": "lexical_diversity(book.sent1)",
   "id": "c258ea177f892f57",
   "outputs": [
    {
     "data": {
      "text/plain": [
       "1.0"
      ]
     },
     "execution_count": 23,
     "metadata": {},
     "output_type": "execute_result"
    }
   ],
   "execution_count": 23
  },
  {
   "metadata": {
    "ExecuteTime": {
     "end_time": "2025-04-09T11:34:32.941360Z",
     "start_time": "2025-04-09T11:34:32.937231Z"
    }
   },
   "cell_type": "code",
   "source": [
    "# And as you already know, in Python it's possible to concatenate lists like this:\n",
    "book.sent5 + book.sent9"
   ],
   "id": "cddfd2ac19f8c0ac",
   "outputs": [
    {
     "data": {
      "text/plain": [
       "['I',\n",
       " 'have',\n",
       " 'a',\n",
       " 'problem',\n",
       " 'with',\n",
       " 'people',\n",
       " 'PMing',\n",
       " 'me',\n",
       " 'to',\n",
       " 'lol',\n",
       " 'JOIN',\n",
       " 'THE',\n",
       " 'suburb',\n",
       " 'of',\n",
       " 'Saffron',\n",
       " 'Park',\n",
       " 'lay',\n",
       " 'on',\n",
       " 'the',\n",
       " 'sunset',\n",
       " 'side',\n",
       " 'of',\n",
       " 'London',\n",
       " ',',\n",
       " 'as',\n",
       " 'red',\n",
       " 'and',\n",
       " 'ragged',\n",
       " 'as',\n",
       " 'a',\n",
       " 'cloud',\n",
       " 'of',\n",
       " 'sunset',\n",
       " '.']"
      ]
     },
     "execution_count": 24,
     "metadata": {},
     "output_type": "execute_result"
    }
   ],
   "execution_count": 24
  },
  {
   "metadata": {
    "ExecuteTime": {
     "end_time": "2025-04-09T11:36:36.478563Z",
     "start_time": "2025-04-09T11:36:36.472601Z"
    }
   },
   "cell_type": "code",
   "source": [
    "#Appending to the end of a list\n",
    "book.sent2.append(\"names are for friends!\")\n",
    "book.sent2"
   ],
   "id": "88316a52a340df8c",
   "outputs": [
    {
     "data": {
      "text/plain": [
       "['The',\n",
       " 'family',\n",
       " 'of',\n",
       " 'Dashwood',\n",
       " 'had',\n",
       " 'long',\n",
       " 'been',\n",
       " 'settled',\n",
       " 'in',\n",
       " 'Sussex',\n",
       " '.',\n",
       " 'name are for friends!',\n",
       " 'names are for friends!']"
      ]
     },
     "execution_count": 26,
     "metadata": {},
     "output_type": "execute_result"
    }
   ],
   "execution_count": 26
  },
  {
   "metadata": {},
   "cell_type": "markdown",
   "source": "### As we consider corpora as lists of strings, we can find a specific word of a corpus via indexing",
   "id": "8c4d1de4d37350fb"
  },
  {
   "metadata": {
    "ExecuteTime": {
     "end_time": "2025-04-09T11:40:05.682691Z",
     "start_time": "2025-04-09T11:40:05.678429Z"
    }
   },
   "cell_type": "code",
   "source": "book.text4[173]",
   "id": "2f2460a30c68ddf3",
   "outputs": [
    {
     "data": {
      "text/plain": [
       "'awaken'"
      ]
     },
     "execution_count": 30,
     "metadata": {},
     "output_type": "execute_result"
    }
   ],
   "execution_count": 30
  },
  {
   "metadata": {
    "ExecuteTime": {
     "end_time": "2025-04-09T11:40:08.937948Z",
     "start_time": "2025-04-09T11:40:08.932192Z"
    }
   },
   "cell_type": "code",
   "source": "book.text4[173:180]",
   "id": "ba70afe06d716039",
   "outputs": [
    {
     "data": {
      "text/plain": [
       "['awaken', 'in', 'the', 'wisest', 'and', 'most', 'experienced']"
      ]
     },
     "execution_count": 31,
     "metadata": {},
     "output_type": "execute_result"
    }
   ],
   "execution_count": 31
  },
  {
   "metadata": {
    "ExecuteTime": {
     "end_time": "2025-04-09T11:41:20.168967Z",
     "start_time": "2025-04-09T11:41:20.164371Z"
    }
   },
   "cell_type": "code",
   "source": [
    "# the index where a specific word occurs for the first time in a corpus\n",
    "book.text1.index(\"god\")"
   ],
   "id": "49d892e6a9984ea",
   "outputs": [
    {
     "data": {
      "text/plain": [
       "34621"
      ]
     },
     "execution_count": 33,
     "metadata": {},
     "output_type": "execute_result"
    }
   ],
   "execution_count": 33
  },
  {
   "metadata": {
    "ExecuteTime": {
     "end_time": "2025-04-09T11:42:26.778336Z",
     "start_time": "2025-04-09T11:42:26.773855Z"
    }
   },
   "cell_type": "code",
   "source": "book.text1[34621:34630]",
   "id": "a07e2e4ceaa7307a",
   "outputs": [
    {
     "data": {
      "text/plain": [
       "['god', '--', 'and', 'Yojo', 'had', 'told', 'him', 'two', 'or']"
      ]
     },
     "execution_count": 34,
     "metadata": {},
     "output_type": "execute_result"
    }
   ],
   "execution_count": 34
  },
  {
   "metadata": {},
   "cell_type": "code",
   "outputs": [],
   "execution_count": null,
   "source": "",
   "id": "7dd2f6efcb32629e"
  }
 ],
 "metadata": {
  "kernelspec": {
   "display_name": "Python 3",
   "language": "python",
   "name": "python3"
  },
  "language_info": {
   "codemirror_mode": {
    "name": "ipython",
    "version": 2
   },
   "file_extension": ".py",
   "mimetype": "text/x-python",
   "name": "python",
   "nbconvert_exporter": "python",
   "pygments_lexer": "ipython2",
   "version": "2.7.6"
  }
 },
 "nbformat": 4,
 "nbformat_minor": 5
}
