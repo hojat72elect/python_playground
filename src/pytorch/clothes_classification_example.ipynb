{
 "cells": [
  {
   "cell_type": "markdown",
   "metadata": {},
   "source": "Here we are following the official tutorial of the PyTorch for training our model with `FashionMNIST` dataset so it can categorize clothes for us."
  },
  {
   "cell_type": "code",
   "metadata": {
    "ExecuteTime": {
     "end_time": "2025-03-03T02:11:16.658612Z",
     "start_time": "2025-03-03T02:10:29.481226Z"
    }
   },
   "source": [
    "import torch\n",
    "import torchvision\n",
    "\n",
    "\n",
    "# download training dataset\n",
    "training_data = torchvision.datasets.FashionMNIST(\n",
    "    root=\"data\",\n",
    "    train=True,\n",
    "    download=True,\n",
    "    transform=torchvision.transforms.ToTensor()\n",
    ")\n"
   ],
   "outputs": [],
   "execution_count": 1
  },
  {
   "cell_type": "code",
   "metadata": {
    "ExecuteTime": {
     "end_time": "2025-03-03T02:12:23.464955Z",
     "start_time": "2025-03-03T02:12:22.994351Z"
    }
   },
   "source": [
    "# Download testing dataset\n",
    "testing_data = torchvision.datasets.FashionMNIST(\n",
    "    root=\"data\",\n",
    "    train=False,\n",
    "    download=True,\n",
    "    transform=torchvision.transforms.ToTensor()\n",
    ")\n"
   ],
   "outputs": [],
   "execution_count": 2
  },
  {
   "cell_type": "code",
   "metadata": {
    "ExecuteTime": {
     "end_time": "2025-03-03T02:12:55.581344Z",
     "start_time": "2025-03-03T02:12:54.780726Z"
    }
   },
   "source": [
    "\"\"\"\n",
    "We pass the Dataset as an argument to DataLoader. This wraps an iterable over our dataset, and supports automatic batching, sampling, shuffling and multiprocess data loading. \n",
    "Here we define a batch size of 64, i.e. each element in the dataloader iterable will return a batch of 64 features and labels.\n",
    "\"\"\"\n",
    "\n",
    "batch_size = 64\n",
    "\n",
    "#Create the dataloaders\n",
    "training_dataloader = torch.utils.data.DataLoader(dataset= training_data, batch_size=batch_size)\n",
    "testing_dataloader = torch.utils.data.DataLoader(dataset=testing_data, batch_size=batch_size)\n",
    "\n",
    "print(\"If to look at our test data loader:\")\n",
    "for X, y in testing_dataloader:\n",
    "    print(f\"Shape of X [N, C, H, W]: {X.shape}\")\n",
    "    print(f\"Shape of y: {y.shape} {y.dtype}\")\n",
    "    break"
   ],
   "outputs": [
    {
     "name": "stdout",
     "output_type": "stream",
     "text": [
      "If to look at our test data loader:\n",
      "Shape of X [N, C, H, W]: torch.Size([64, 1, 28, 28])\n",
      "Shape of y: torch.Size([64]) torch.int64\n"
     ]
    }
   ],
   "execution_count": 3
  },
  {
   "cell_type": "code",
   "metadata": {
    "ExecuteTime": {
     "end_time": "2025-03-03T02:13:21.076374Z",
     "start_time": "2025-03-03T02:13:20.769773Z"
    }
   },
   "source": [
    "\"\"\"\n",
    "To define a neural network in PyTorch, we create a class that inherits from nn.Module. We define the layers of the network in the __init__ function and specify how \n",
    "data will pass through the network in the 'forward' function. To accelerate operations in the neural network, we move it to an accelerator such as CUDA, MPS, MTIA, or XPU.\n",
    "If the current accelerator is available, we will use it. Otherwise, we use the CPU.\n",
    "\"\"\"\n",
    "\n",
    "device = torch.accelerator.current_accelerator().type if torch.accelerator.is_available() else \"cpu\"\n",
    "print(f\"we're using {device} device\")"
   ],
   "outputs": [
    {
     "name": "stdout",
     "output_type": "stream",
     "text": [
      "we're using cuda device\n"
     ]
    }
   ],
   "execution_count": 4
  },
  {
   "cell_type": "code",
   "metadata": {
    "ExecuteTime": {
     "end_time": "2025-03-03T02:15:45.557598Z",
     "start_time": "2025-03-03T02:15:45.121483Z"
    }
   },
   "source": [
    "# Define the forward pass of our neural network\n",
    "\n",
    "class NeuralNetwork(torch.nn.Module):\n",
    "    def __init__(self):\n",
    "        super().__init__()\n",
    "        self.flatten = torch.nn.Flatten()\n",
    "        self.linear_relu_stack = torch.nn.Sequential(\n",
    "            torch.nn.Linear(28*28, 512),\n",
    "            torch.nn.ReLU(),\n",
    "            torch.nn.Linear(512, 512),\n",
    "            torch.nn.ReLU(),\n",
    "            torch.nn.Linear(512, 10)\n",
    "        )\n",
    "\n",
    "    def forward(self, x):\n",
    "        x = self.flatten(x)\n",
    "        logits = self.linear_relu_stack(x)\n",
    "        return logits\n",
    "    \n",
    "model = NeuralNetwork().to(device)\n",
    "print(model)"
   ],
   "outputs": [
    {
     "name": "stdout",
     "output_type": "stream",
     "text": [
      "NeuralNetwork(\n",
      "  (flatten): Flatten(start_dim=1, end_dim=-1)\n",
      "  (linear_relu_stack): Sequential(\n",
      "    (0): Linear(in_features=784, out_features=512, bias=True)\n",
      "    (1): ReLU()\n",
      "    (2): Linear(in_features=512, out_features=512, bias=True)\n",
      "    (3): ReLU()\n",
      "    (4): Linear(in_features=512, out_features=10, bias=True)\n",
      "  )\n",
      ")\n"
     ]
    }
   ],
   "execution_count": 5
  },
  {
   "metadata": {
    "ExecuteTime": {
     "end_time": "2025-03-03T02:18:26.764281Z",
     "start_time": "2025-03-03T02:18:26.761025Z"
    }
   },
   "cell_type": "code",
   "source": [
    "# The loss function and the optimizer we need for training the model\n",
    "loss_fn = torch.nn.CrossEntropyLoss()\n",
    "optimizer = torch.optim.SGD(model.parameters(), lr=1e-3)"
   ],
   "outputs": [],
   "execution_count": 6
  },
  {
   "metadata": {
    "ExecuteTime": {
     "end_time": "2025-03-03T03:42:42.298169Z",
     "start_time": "2025-03-03T03:42:42.288767Z"
    }
   },
   "cell_type": "code",
   "source": [
    "\"\"\"\n",
    "In a single training loop, the model makes predictions on the training dataset (fed to it in batches), and\n",
    "backpropagates the prediction error to adjust the model’s parameters.\n",
    "\"\"\"\n",
    "def train(dataloader, model, loss_fn, optimizer):\n",
    "    size = len(dataloader.dataset)\n",
    "    model.train()\n",
    "    for batch, (X, y) in enumerate(dataloader):\n",
    "        X, y = X.to(device), y.to(device)\n",
    "        \n",
    "        # compute the prediction error\n",
    "        pred = model(X)\n",
    "        loss = loss_fn(pred, y)\n",
    "        \n",
    "        # backpropagation\n",
    "        loss.backward()\n",
    "        optimizer.step()\n",
    "        optimizer.zero_grad()\n",
    "        \n",
    "        if batch % 100 == 0:\n",
    "            loss, current = loss.item(), (batch + 1) * len(X)\n",
    "            print(f\"loss: {loss:>7f} [{current:>5d}/{size:>5d}]\")"
   ],
   "outputs": [],
   "execution_count": 7
  },
  {
   "metadata": {
    "ExecuteTime": {
     "end_time": "2025-03-03T03:44:19.374127Z",
     "start_time": "2025-03-03T03:44:19.300108Z"
    }
   },
   "cell_type": "code",
   "source": [
    "# We also check the model’s performance against the test dataset to ensure it is learning.\n",
    "def test(dataloader, model, loss_fn):\n",
    "    size = len(dataloader.dataset)\n",
    "    num_batches = len(dataloader)\n",
    "    model.eval()\n",
    "    test_loss, correct = 0, 0\n",
    "    with torch.no_grad():\n",
    "        for X, y in dataloader:\n",
    "            X, y = X.to(device), y.to(device)\n",
    "            pred = model(X)\n",
    "            test_loss += loss_fn(pred, y).item()\n",
    "            correct += (pred.argmax(1) == y).type(torch.float).sum().item()\n",
    "    test_loss /= num_batches\n",
    "    correct /= size\n",
    "    print(f\"Test Error: \\n Accuracy: {(100*correct):>0.1f}%, Avg loss: {test_loss:>8f} \\n\")"
   ],
   "outputs": [],
   "execution_count": 8
  },
  {
   "metadata": {
    "ExecuteTime": {
     "end_time": "2025-03-03T03:46:33.730887Z",
     "start_time": "2025-03-03T03:45:56.703241Z"
    }
   },
   "cell_type": "code",
   "source": [
    "\"\"\"\n",
    "The training process is conducted over several iterations (epochs). During each epoch, the model learns parameters to make better predictions. We print the\n",
    "model’s accuracy and loss at each epoch; we’d like to see the accuracy increase and the loss decrease with every epoch.\n",
    "\"\"\"\n",
    "\n",
    "epochs = 5\n",
    "for t in range(epochs):\n",
    "    print(f\"Epoch {t+1}\\n-------------------------------\")\n",
    "    train(training_dataloader, model, loss_fn, optimizer)\n",
    "    test(testing_dataloader, model, loss_fn)\n",
    "print(\"Done!\")"
   ],
   "outputs": [
    {
     "name": "stdout",
     "output_type": "stream",
     "text": [
      "Epoch 1\n",
      "-------------------------------\n",
      "loss: 2.301513 [   64/60000]\n",
      "loss: 2.288389 [ 6464/60000]\n",
      "loss: 2.281337 [12864/60000]\n",
      "loss: 2.278783 [19264/60000]\n",
      "loss: 2.249014 [25664/60000]\n",
      "loss: 2.227063 [32064/60000]\n",
      "loss: 2.235017 [38464/60000]\n",
      "loss: 2.201739 [44864/60000]\n",
      "loss: 2.205630 [51264/60000]\n",
      "loss: 2.188582 [57664/60000]\n",
      "Test Error: \n",
      " Accuracy: 43.0%, Avg loss: 2.172131 \n",
      "\n",
      "Epoch 2\n",
      "-------------------------------\n",
      "loss: 2.179353 [   64/60000]\n",
      "loss: 2.165227 [ 6464/60000]\n",
      "loss: 2.125644 [12864/60000]\n",
      "loss: 2.137983 [19264/60000]\n",
      "loss: 2.079976 [25664/60000]\n",
      "loss: 2.039436 [32064/60000]\n",
      "loss: 2.058058 [38464/60000]\n",
      "loss: 1.993897 [44864/60000]\n",
      "loss: 1.997507 [51264/60000]\n",
      "loss: 1.935869 [57664/60000]\n",
      "Test Error: \n",
      " Accuracy: 58.8%, Avg loss: 1.927919 \n",
      "\n",
      "Epoch 3\n",
      "-------------------------------\n",
      "loss: 1.962469 [   64/60000]\n",
      "loss: 1.922989 [ 6464/60000]\n",
      "loss: 1.831743 [12864/60000]\n",
      "loss: 1.852599 [19264/60000]\n",
      "loss: 1.734272 [25664/60000]\n",
      "loss: 1.713268 [32064/60000]\n",
      "loss: 1.714335 [38464/60000]\n",
      "loss: 1.636132 [44864/60000]\n",
      "loss: 1.651178 [51264/60000]\n",
      "loss: 1.540671 [57664/60000]\n",
      "Test Error: \n",
      " Accuracy: 61.4%, Avg loss: 1.558699 \n",
      "\n",
      "Epoch 4\n",
      "-------------------------------\n",
      "loss: 1.632870 [   64/60000]\n",
      "loss: 1.580670 [ 6464/60000]\n",
      "loss: 1.451189 [12864/60000]\n",
      "loss: 1.496076 [19264/60000]\n",
      "loss: 1.365543 [25664/60000]\n",
      "loss: 1.388200 [32064/60000]\n",
      "loss: 1.379864 [38464/60000]\n",
      "loss: 1.322954 [44864/60000]\n",
      "loss: 1.349204 [51264/60000]\n",
      "loss: 1.242254 [57664/60000]\n",
      "Test Error: \n",
      " Accuracy: 63.5%, Avg loss: 1.269557 \n",
      "\n",
      "Epoch 5\n",
      "-------------------------------\n",
      "loss: 1.356055 [   64/60000]\n",
      "loss: 1.322355 [ 6464/60000]\n",
      "loss: 1.170468 [12864/60000]\n",
      "loss: 1.255065 [19264/60000]\n",
      "loss: 1.123185 [25664/60000]\n",
      "loss: 1.168961 [32064/60000]\n",
      "loss: 1.171903 [38464/60000]\n",
      "loss: 1.124602 [44864/60000]\n",
      "loss: 1.157409 [51264/60000]\n",
      "loss: 1.069109 [57664/60000]\n",
      "Test Error: \n",
      " Accuracy: 64.7%, Avg loss: 1.091466 \n",
      "\n",
      "Done!\n"
     ]
    }
   ],
   "execution_count": 9
  },
  {
   "metadata": {
    "ExecuteTime": {
     "end_time": "2025-03-03T03:47:42.629431Z",
     "start_time": "2025-03-03T03:47:42.143943Z"
    }
   },
   "cell_type": "code",
   "source": [
    "# A common way to save a model is to serialize the internal state dictionary (containing the model parameters).\n",
    "torch.save(model.state_dict(), \"model.pth\")\n",
    "print(\"Saved PyTorch Model State to model.pth\")"
   ],
   "outputs": [
    {
     "name": "stdout",
     "output_type": "stream",
     "text": [
      "Saved PyTorch Model State to model.pth\n"
     ]
    }
   ],
   "execution_count": 10
  },
  {
   "metadata": {
    "ExecuteTime": {
     "end_time": "2025-03-03T03:48:45.839493Z",
     "start_time": "2025-03-03T03:48:45.612398Z"
    }
   },
   "cell_type": "code",
   "source": [
    "# The process for loading a model includes re-creating the model structure and loading the state dictionary into it.\n",
    "model = NeuralNetwork().to(device)\n",
    "model.load_state_dict(torch.load(\"model.pth\", weights_only=True))"
   ],
   "outputs": [
    {
     "data": {
      "text/plain": [
       "<All keys matched successfully>"
      ]
     },
     "execution_count": 11,
     "metadata": {},
     "output_type": "execute_result"
    }
   ],
   "execution_count": 11
  },
  {
   "metadata": {
    "ExecuteTime": {
     "end_time": "2025-03-03T03:50:19.969624Z",
     "start_time": "2025-03-03T03:50:19.765385Z"
    }
   },
   "cell_type": "code",
   "source": [
    "# This model can now be used to make predictions.\n",
    "classes = [\n",
    "    \"T-shirt/top\",\n",
    "    \"Trouser\",\n",
    "    \"Pullover\",\n",
    "    \"Dress\",\n",
    "    \"Coat\",\n",
    "    \"Sandal\",\n",
    "    \"Shirt\",\n",
    "    \"Sneaker\",\n",
    "    \"Bag\",\n",
    "    \"Ankle boot\",\n",
    "]\n",
    "\n",
    "model.eval()\n",
    "x, y = testing_data[0][0], testing_data[0][1]\n",
    "with torch.no_grad():\n",
    "    x = x.to(device)\n",
    "    pred = model(x)\n",
    "    predicted, actual = classes[pred[0].argmax(0)], classes[y]\n",
    "    print(f'Predicted: \"{predicted}\", Actual: \"{actual}\"')"
   ],
   "outputs": [
    {
     "name": "stdout",
     "output_type": "stream",
     "text": [
      "Predicted: \"Ankle boot\", Actual: \"Ankle boot\"\n"
     ]
    }
   ],
   "execution_count": 12
  },
  {
   "metadata": {},
   "cell_type": "code",
   "outputs": [],
   "execution_count": null,
   "source": ""
  }
 ],
 "metadata": {
  "kernelspec": {
   "display_name": ".venv",
   "language": "python",
   "name": "python3"
  },
  "language_info": {
   "codemirror_mode": {
    "name": "ipython",
    "version": 3
   },
   "file_extension": ".py",
   "mimetype": "text/x-python",
   "name": "python",
   "nbconvert_exporter": "python",
   "pygments_lexer": "ipython3",
   "version": "3.13.1"
  }
 },
 "nbformat": 4,
 "nbformat_minor": 2
}
