{
 "cells": [
  {
   "cell_type": "code",
   "metadata": {
    "ExecuteTime": {
     "end_time": "2025-02-28T08:38:45.592309Z",
     "start_time": "2025-02-28T08:38:44.727148Z"
    }
   },
   "source": [
    "import skimage\n",
    "\n",
    "\n",
    "camera = skimage.data.camera()"
   ],
   "outputs": [],
   "execution_count": 1
  },
  {
   "cell_type": "code",
   "metadata": {
    "ExecuteTime": {
     "end_time": "2025-02-28T08:38:45.598492Z",
     "start_time": "2025-02-28T08:38:45.593703Z"
    }
   },
   "source": [
    "type(camera)"
   ],
   "outputs": [
    {
     "data": {
      "text/plain": [
       "numpy.ndarray"
      ]
     },
     "execution_count": 2,
     "metadata": {},
     "output_type": "execute_result"
    }
   ],
   "execution_count": 2
  },
  {
   "cell_type": "code",
   "metadata": {
    "ExecuteTime": {
     "end_time": "2025-02-28T08:38:45.606618Z",
     "start_time": "2025-02-28T08:38:45.600453Z"
    }
   },
   "source": [
    "camera.shape"
   ],
   "outputs": [
    {
     "data": {
      "text/plain": [
       "(512, 512)"
      ]
     },
     "execution_count": 3,
     "metadata": {},
     "output_type": "execute_result"
    }
   ],
   "execution_count": 3
  },
  {
   "cell_type": "code",
   "metadata": {
    "ExecuteTime": {
     "end_time": "2025-02-28T08:38:45.739427Z",
     "start_time": "2025-02-28T08:38:45.607886Z"
    }
   },
   "source": [
    "coins = skimage.data.coins()\n",
    "threshold_value = skimage.filters.threshold_otsu(coins)\n",
    "threshold_value"
   ],
   "outputs": [
    {
     "data": {
      "text/plain": [
       "np.int64(107)"
      ]
     },
     "execution_count": 4,
     "metadata": {},
     "output_type": "execute_result"
    }
   ],
   "execution_count": 4
  },
  {
   "cell_type": "code",
   "metadata": {
    "ExecuteTime": {
     "end_time": "2025-02-28T08:38:45.755219Z",
     "start_time": "2025-02-28T08:38:45.740495Z"
    }
   },
   "source": [
    "import os\n",
    "\n",
    "filename = os.path.join(skimage.data_dir, \"moon.png\")\n",
    "moon = skimage.io.imread(filename)\n",
    "\n"
   ],
   "outputs": [],
   "execution_count": 5
  },
  {
   "cell_type": "code",
   "metadata": {
    "ExecuteTime": {
     "end_time": "2025-02-28T08:38:45.762342Z",
     "start_time": "2025-02-28T08:38:45.757873Z"
    }
   },
   "source": [
    "moon"
   ],
   "outputs": [
    {
     "data": {
      "text/plain": [
       "array([[116, 116, 122, ...,  93,  96,  96],\n",
       "       [116, 116, 122, ...,  93,  96,  96],\n",
       "       [116, 116, 122, ...,  93,  96,  96],\n",
       "       ...,\n",
       "       [109, 109, 112, ..., 117, 116, 116],\n",
       "       [114, 114, 113, ..., 118, 118, 118],\n",
       "       [114, 114, 113, ..., 118, 118, 118]], shape=(512, 512), dtype=uint8)"
      ]
     },
     "execution_count": 6,
     "metadata": {},
     "output_type": "execute_result"
    }
   ],
   "execution_count": 6
  }
 ],
 "metadata": {
  "kernelspec": {
   "display_name": ".venv",
   "language": "python",
   "name": "python3"
  },
  "language_info": {
   "codemirror_mode": {
    "name": "ipython",
    "version": 3
   },
   "file_extension": ".py",
   "mimetype": "text/x-python",
   "name": "python",
   "nbconvert_exporter": "python",
   "pygments_lexer": "ipython3",
   "version": "3.13.1"
  }
 },
 "nbformat": 4,
 "nbformat_minor": 2
}
