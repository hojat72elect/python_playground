{
 "cells": [
  {
   "cell_type": "code",
   "execution_count": 14,
   "metadata": {},
   "outputs": [],
   "source": [
    "import PIL.Image\n",
    "import PIL.ImageFilter\n",
    "import PIL.ImageEnhance\n",
    "\n",
    "input_image= PIL.Image.open('./pics/Gambian_model.png')\n",
    "input_image.show(\"The original\")"
   ]
  },
  {
   "cell_type": "code",
   "execution_count": 3,
   "metadata": {},
   "outputs": [],
   "source": [
    "sharpened_image = input_image.filter(PIL.ImageFilter.SHARPEN)\n",
    "sharpened_image.show(\"The sharpened image (by default factor)\")"
   ]
  },
  {
   "cell_type": "code",
   "execution_count": 5,
   "metadata": {},
   "outputs": [],
   "source": [
    "smoothed_image = input_image.filter(PIL.ImageFilter.SMOOTH)\n",
    "smoothed_image.show(\"The smoothed image (by default factor)\")"
   ]
  },
  {
   "cell_type": "code",
   "execution_count": 6,
   "metadata": {},
   "outputs": [],
   "source": [
    "# applies the black and white filter\n",
    "gray_image = input_image.convert('L')\n",
    "gray_image.show(\"The gray image\")"
   ]
  },
  {
   "cell_type": "code",
   "execution_count": 7,
   "metadata": {},
   "outputs": [],
   "source": [
    "edged_image = input_image.filter(PIL.ImageFilter.FIND_EDGES)\n",
    "edged_image.show(\"The edged image\")"
   ]
  },
  {
   "cell_type": "code",
   "execution_count": 11,
   "metadata": {},
   "outputs": [],
   "source": [
    "embossed_image = input_image.filter(PIL.ImageFilter.EMBOSS)\n",
    "embossed_image.show(\"The embossed image\")"
   ]
  },
  {
   "cell_type": "code",
   "execution_count": null,
   "metadata": {},
   "outputs": [],
   "source": [
    "# Enhance the color of the picture\n",
    "color_enhancer = PIL.ImageEnhance.Color(input_image)\n",
    "color_enhanced_image = color_enhancer.enhance(2) # It can be reduced as well.\n",
    "color_enhanced_image.show(\"The color enhanced image (by the factor of 5)\")"
   ]
  }
 ],
 "metadata": {
  "kernelspec": {
   "display_name": ".venv",
   "language": "python",
   "name": "python3"
  },
  "language_info": {
   "codemirror_mode": {
    "name": "ipython",
    "version": 3
   },
   "file_extension": ".py",
   "mimetype": "text/x-python",
   "name": "python",
   "nbconvert_exporter": "python",
   "pygments_lexer": "ipython3",
   "version": "3.13.1"
  }
 },
 "nbformat": 4,
 "nbformat_minor": 2
}
