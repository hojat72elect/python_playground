{
 "cells": [
  {
   "cell_type": "code",
   "execution_count": 2,
   "metadata": {},
   "outputs": [],
   "source": [
    "import PIL.Image\n",
    "import PIL.ImageFilter\n",
    "\n",
    "input_image= PIL.Image.open('./pics/Bulgarian_model.png')\n",
    "input_image.show(\"The original image\")\n"
   ]
  },
  {
   "cell_type": "code",
   "execution_count": 3,
   "metadata": {},
   "outputs": [],
   "source": [
    " # simple blurring\n",
    "blurred_image = input_image.filter(PIL.ImageFilter.BLUR)\n",
    "blurred_image.show(\"The blurred image\")"
   ]
  },
  {
   "cell_type": "code",
   "execution_count": 4,
   "metadata": {},
   "outputs": [],
   "source": [
    "# box blur in the scale of 5\n",
    "box_blurred_image1 = input_image.filter(PIL.ImageFilter.BoxBlur(5))\n",
    "box_blurred_image1.show(\"The box blurred image (on the scale of 5)\")"
   ]
  },
  {
   "cell_type": "code",
   "execution_count": 7,
   "metadata": {},
   "outputs": [],
   "source": [
    "# Box blur in the scale of 20\n",
    "box_blurred_image2 = input_image.filter(PIL.ImageFilter.BoxBlur(20))\n",
    "box_blurred_image2.show(\"The box blurred image (on the scale of 20)\") "
   ]
  },
  {
   "cell_type": "code",
   "execution_count": 8,
   "metadata": {},
   "outputs": [],
   "source": [
    "# Gaussian blur in the scale of 20\n",
    "gaussian_blurred_image = input_image.filter(PIL.ImageFilter.GaussianBlur(20))\n",
    "gaussian_blurred_image.show(\"The Gaussian blurred image\")"
   ]
  },
  {
   "cell_type": "code",
   "execution_count": 9,
   "metadata": {},
   "outputs": [],
   "source": [
    "# Convert it into black and white\n",
    "bw_image = input_image.convert(\"L\")\n",
    "bw_image.show(\"The black and white image\")"
   ]
  }
 ],
 "metadata": {
  "kernelspec": {
   "display_name": ".venv",
   "language": "python",
   "name": "python3"
  },
  "language_info": {
   "codemirror_mode": {
    "name": "ipython",
    "version": 3
   },
   "file_extension": ".py",
   "mimetype": "text/x-python",
   "name": "python",
   "nbconvert_exporter": "python",
   "pygments_lexer": "ipython3",
   "version": "3.13.1"
  }
 },
 "nbformat": 4,
 "nbformat_minor": 2
}
