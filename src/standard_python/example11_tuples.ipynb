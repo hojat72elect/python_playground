{
 "cells": [
  {
   "cell_type": "code",
   "id": "initial_id",
   "metadata": {
    "collapsed": true,
    "ExecuteTime": {
     "end_time": "2025-03-23T06:20:04.054520Z",
     "start_time": "2025-03-23T06:20:04.049781Z"
    }
   },
   "source": [
    "\"\"\"\n",
    "Some of the simple examples of tuples in python\n",
    "\"\"\"\n",
    "\n",
    "example_tuple_1 = (12345, 54321, 'hello!')\n",
    "example_tuple_1[0]"
   ],
   "outputs": [
    {
     "data": {
      "text/plain": [
       "12345"
      ]
     },
     "execution_count": 1,
     "metadata": {},
     "output_type": "execute_result"
    }
   ],
   "execution_count": 1
  },
  {
   "metadata": {
    "ExecuteTime": {
     "end_time": "2025-03-23T06:20:23.034525Z",
     "start_time": "2025-03-23T06:20:23.030615Z"
    }
   },
   "cell_type": "code",
   "source": "example_tuple_1",
   "id": "277e44a89db5a627",
   "outputs": [
    {
     "data": {
      "text/plain": [
       "(12345, 54321, 'hello!')"
      ]
     },
     "execution_count": 3,
     "metadata": {},
     "output_type": "execute_result"
    }
   ],
   "execution_count": 3
  },
  {
   "metadata": {
    "ExecuteTime": {
     "end_time": "2025-03-23T06:24:02.596947Z",
     "start_time": "2025-03-23T06:24:02.593932Z"
    }
   },
   "cell_type": "code",
   "source": [
    "example_tuple_2 = (example_tuple_1, (1, 2, 3, 4, 5))\n",
    "example_tuple_2"
   ],
   "id": "20110e1cac6748e1",
   "outputs": [
    {
     "data": {
      "text/plain": [
       "((12345, 54321, 'hello!'), (1, 2, 3, 4, 5))"
      ]
     },
     "execution_count": 4,
     "metadata": {},
     "output_type": "execute_result"
    }
   ],
   "execution_count": 4
  },
  {
   "metadata": {
    "ExecuteTime": {
     "end_time": "2025-03-23T06:26:57.626041Z",
     "start_time": "2025-03-23T06:26:57.622509Z"
    }
   },
   "cell_type": "code",
   "source": [
    "example_tuple_3 = ([1, 2, 3], [3, 2, 1])\n",
    "example_tuple_3"
   ],
   "id": "1a2d4bfffeb693a1",
   "outputs": [
    {
     "data": {
      "text/plain": [
       "([1, 2, 3], [3, 2, 1])"
      ]
     },
     "execution_count": 7,
     "metadata": {},
     "output_type": "execute_result"
    }
   ],
   "execution_count": 7
  },
  {
   "metadata": {
    "ExecuteTime": {
     "end_time": "2025-03-23T06:30:26.005481Z",
     "start_time": "2025-03-23T06:30:26.001142Z"
    }
   },
   "cell_type": "code",
   "source": [
    "empty_tuple = ()\n",
    "type(empty_tuple)"
   ],
   "id": "957058e0c57774a3",
   "outputs": [
    {
     "data": {
      "text/plain": [
       "tuple"
      ]
     },
     "execution_count": 8,
     "metadata": {},
     "output_type": "execute_result"
    }
   ],
   "execution_count": 8
  },
  {
   "metadata": {
    "ExecuteTime": {
     "end_time": "2025-03-23T06:31:53.842364Z",
     "start_time": "2025-03-23T06:31:53.838198Z"
    }
   },
   "cell_type": "code",
   "source": "len(empty_tuple)",
   "id": "9f97c3826ba534d5",
   "outputs": [
    {
     "data": {
      "text/plain": [
       "0"
      ]
     },
     "execution_count": 9,
     "metadata": {},
     "output_type": "execute_result"
    }
   ],
   "execution_count": 9
  },
  {
   "metadata": {
    "ExecuteTime": {
     "end_time": "2025-03-23T06:32:58.707990Z",
     "start_time": "2025-03-23T06:32:58.704761Z"
    }
   },
   "cell_type": "code",
   "source": [
    "singleton_tuple = ('hello',)\n",
    "type(singleton_tuple)"
   ],
   "id": "d4cd0d4669a28ac3",
   "outputs": [
    {
     "data": {
      "text/plain": [
       "tuple"
      ]
     },
     "execution_count": 11,
     "metadata": {},
     "output_type": "execute_result"
    }
   ],
   "execution_count": 11
  },
  {
   "metadata": {
    "ExecuteTime": {
     "end_time": "2025-03-23T06:33:07.497701Z",
     "start_time": "2025-03-23T06:33:07.493142Z"
    }
   },
   "cell_type": "code",
   "source": "len(singleton_tuple)",
   "id": "50206dbe1396fff2",
   "outputs": [
    {
     "data": {
      "text/plain": [
       "1"
      ]
     },
     "execution_count": 12,
     "metadata": {},
     "output_type": "execute_result"
    }
   ],
   "execution_count": 12
  },
  {
   "metadata": {
    "ExecuteTime": {
     "end_time": "2025-03-23T06:36:46.447724Z",
     "start_time": "2025-03-23T06:36:46.443270Z"
    }
   },
   "cell_type": "code",
   "source": "example_tuple_1",
   "id": "e28ce9c7a91f2659",
   "outputs": [
    {
     "data": {
      "text/plain": [
       "(12345, 54321, 'hello!')"
      ]
     },
     "execution_count": 13,
     "metadata": {},
     "output_type": "execute_result"
    }
   ],
   "execution_count": 13
  },
  {
   "metadata": {
    "ExecuteTime": {
     "end_time": "2025-03-23T06:38:21.361467Z",
     "start_time": "2025-03-23T06:38:21.357881Z"
    }
   },
   "cell_type": "code",
   "source": [
    "# this is a very simple way of opening a tuple into various variables:\n",
    "first_num, second_num, third_str = example_tuple_1\n",
    "print(first_num)\n",
    "print(second_num)\n",
    "print(third_str)"
   ],
   "id": "53b7fc1f0b3dba50",
   "outputs": [
    {
     "name": "stdout",
     "output_type": "stream",
     "text": [
      "12345\n",
      "54321\n",
      "hello!\n"
     ]
    }
   ],
   "execution_count": 14
  }
 ],
 "metadata": {
  "kernelspec": {
   "display_name": "Python 3",
   "language": "python",
   "name": "python3"
  },
  "language_info": {
   "codemirror_mode": {
    "name": "ipython",
    "version": 2
   },
   "file_extension": ".py",
   "mimetype": "text/x-python",
   "name": "python",
   "nbconvert_exporter": "python",
   "pygments_lexer": "ipython2",
   "version": "2.7.6"
  }
 },
 "nbformat": 4,
 "nbformat_minor": 5
}
