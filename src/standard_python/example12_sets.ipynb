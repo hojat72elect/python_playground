{
 "cells": [
  {
   "cell_type": "code",
   "id": "initial_id",
   "metadata": {
    "collapsed": true,
    "ExecuteTime": {
     "end_time": "2025-03-23T09:22:14.024744Z",
     "start_time": "2025-03-23T09:22:14.018163Z"
    }
   },
   "source": [
    "\"\"\"\n",
    "Simple examples of how to work with sets in python\n",
    "\"\"\"\n",
    "basket = {'apple', 'orange', 'apple', 'pear', 'orange', 'banana'}\n",
    "basket"
   ],
   "outputs": [
    {
     "data": {
      "text/plain": [
       "{'apple', 'banana', 'orange', 'pear'}"
      ]
     },
     "execution_count": 1,
     "metadata": {},
     "output_type": "execute_result"
    }
   ],
   "execution_count": 1
  },
  {
   "metadata": {
    "ExecuteTime": {
     "end_time": "2025-03-23T09:22:14.030004Z",
     "start_time": "2025-03-23T09:22:14.026746Z"
    }
   },
   "cell_type": "code",
   "source": "'orange' in basket",
   "id": "6a5aed34995688e7",
   "outputs": [
    {
     "data": {
      "text/plain": [
       "True"
      ]
     },
     "execution_count": 2,
     "metadata": {},
     "output_type": "execute_result"
    }
   ],
   "execution_count": 2
  },
  {
   "metadata": {
    "ExecuteTime": {
     "end_time": "2025-03-23T09:22:14.034749Z",
     "start_time": "2025-03-23T09:22:14.031379Z"
    }
   },
   "cell_type": "code",
   "source": "'strawberry' in basket",
   "id": "928b959b2e8682a8",
   "outputs": [
    {
     "data": {
      "text/plain": [
       "False"
      ]
     },
     "execution_count": 3,
     "metadata": {},
     "output_type": "execute_result"
    }
   ],
   "execution_count": 3
  },
  {
   "metadata": {
    "ExecuteTime": {
     "end_time": "2025-03-23T09:22:14.038755Z",
     "start_time": "2025-03-23T09:22:14.035770Z"
    }
   },
   "cell_type": "code",
   "source": [
    "# Make a set out of a string\n",
    "set_1 = set('abracadabra')\n",
    "set_1"
   ],
   "id": "aa5b1fb8a72bf0b8",
   "outputs": [
    {
     "data": {
      "text/plain": [
       "{'a', 'b', 'c', 'd', 'r'}"
      ]
     },
     "execution_count": 4,
     "metadata": {},
     "output_type": "execute_result"
    }
   ],
   "execution_count": 4
  },
  {
   "metadata": {
    "ExecuteTime": {
     "end_time": "2025-03-23T09:22:14.042655Z",
     "start_time": "2025-03-23T09:22:14.040042Z"
    }
   },
   "cell_type": "code",
   "source": [
    "set_2 = set('alacazam')\n",
    "set_2"
   ],
   "id": "2d56d0ed6fff4566",
   "outputs": [
    {
     "data": {
      "text/plain": [
       "{'a', 'c', 'l', 'm', 'z'}"
      ]
     },
     "execution_count": 5,
     "metadata": {},
     "output_type": "execute_result"
    }
   ],
   "execution_count": 5
  },
  {
   "metadata": {
    "ExecuteTime": {
     "end_time": "2025-03-23T09:22:14.046837Z",
     "start_time": "2025-03-23T09:22:14.043986Z"
    }
   },
   "cell_type": "code",
   "source": [
    "# subtracting a set from another set\n",
    "subtraction_result = set_1 - set_2\n",
    "subtraction_result"
   ],
   "id": "cbe1176d25c9cfb7",
   "outputs": [
    {
     "data": {
      "text/plain": [
       "{'b', 'd', 'r'}"
      ]
     },
     "execution_count": 6,
     "metadata": {},
     "output_type": "execute_result"
    }
   ],
   "execution_count": 6
  },
  {
   "metadata": {
    "ExecuteTime": {
     "end_time": "2025-03-23T09:22:14.050756Z",
     "start_time": "2025-03-23T09:22:14.047976Z"
    }
   },
   "cell_type": "code",
   "source": [
    "# union of 2 sets\n",
    "union_result = set_1 | set_2\n",
    "union_result"
   ],
   "id": "1c00b3960d15cb6b",
   "outputs": [
    {
     "data": {
      "text/plain": [
       "{'a', 'b', 'c', 'd', 'l', 'm', 'r', 'z'}"
      ]
     },
     "execution_count": 7,
     "metadata": {},
     "output_type": "execute_result"
    }
   ],
   "execution_count": 7
  },
  {
   "metadata": {
    "ExecuteTime": {
     "end_time": "2025-03-23T09:22:14.055118Z",
     "start_time": "2025-03-23T09:22:14.052089Z"
    }
   },
   "cell_type": "code",
   "source": [
    "# Intersection of 2 sets\n",
    "intersection_result = set_1 & set_2\n",
    "intersection_result"
   ],
   "id": "703ef5db30e08d09",
   "outputs": [
    {
     "data": {
      "text/plain": [
       "{'a', 'c'}"
      ]
     },
     "execution_count": 8,
     "metadata": {},
     "output_type": "execute_result"
    }
   ],
   "execution_count": 8
  },
  {
   "metadata": {
    "ExecuteTime": {
     "end_time": "2025-03-23T09:22:14.060439Z",
     "start_time": "2025-03-23T09:22:14.056883Z"
    }
   },
   "cell_type": "code",
   "source": [
    "# Symmetric difference between 2 sets\n",
    "symmetric_difference_result = set_1 ^ set_2\n",
    "symmetric_difference_result"
   ],
   "id": "f17c42ddafdd323c",
   "outputs": [
    {
     "data": {
      "text/plain": [
       "{'b', 'd', 'l', 'm', 'r', 'z'}"
      ]
     },
     "execution_count": 9,
     "metadata": {},
     "output_type": "execute_result"
    }
   ],
   "execution_count": 9
  },
  {
   "metadata": {
    "ExecuteTime": {
     "end_time": "2025-03-23T09:22:14.064393Z",
     "start_time": "2025-03-23T09:22:14.061413Z"
    }
   },
   "cell_type": "code",
   "source": [
    "# A simple set comprehension in python\n",
    "set_comprehension_1 = {x for x in 'abracadabra' if x not in 'abc'}\n",
    "set_comprehension_1"
   ],
   "id": "58239483e61e1876",
   "outputs": [
    {
     "data": {
      "text/plain": [
       "{'d', 'r'}"
      ]
     },
     "execution_count": 10,
     "metadata": {},
     "output_type": "execute_result"
    }
   ],
   "execution_count": 10
  },
  {
   "metadata": {
    "ExecuteTime": {
     "end_time": "2025-03-23T09:25:34.184769Z",
     "start_time": "2025-03-23T09:25:34.180467Z"
    }
   },
   "cell_type": "code",
   "source": [
    "# Eliminating duplicates of a sequence, by converting it into a set:\n",
    "basket = ['apple', 'orange', 'apple', 'pear', 'orange', 'banana']\n",
    "for fruit in sorted(set(basket)):\n",
    "    print(fruit)"
   ],
   "id": "e3ea7233dab44a29",
   "outputs": [
    {
     "name": "stdout",
     "output_type": "stream",
     "text": [
      "apple\n",
      "banana\n",
      "orange\n",
      "pear\n"
     ]
    }
   ],
   "execution_count": 11
  },
  {
   "metadata": {},
   "cell_type": "code",
   "outputs": [],
   "execution_count": null,
   "source": "",
   "id": "aedc2a35de02cd8d"
  }
 ],
 "metadata": {
  "kernelspec": {
   "display_name": "Python 3",
   "language": "python",
   "name": "python3"
  },
  "language_info": {
   "codemirror_mode": {
    "name": "ipython",
    "version": 2
   },
   "file_extension": ".py",
   "mimetype": "text/x-python",
   "name": "python",
   "nbconvert_exporter": "python",
   "pygments_lexer": "ipython2",
   "version": "2.7.6"
  }
 },
 "nbformat": 4,
 "nbformat_minor": 5
}
