{
 "cells": [
  {
   "cell_type": "code",
   "id": "initial_id",
   "metadata": {
    "collapsed": true,
    "ExecuteTime": {
     "end_time": "2025-03-23T08:41:07.201463Z",
     "start_time": "2025-03-23T08:41:07.196024Z"
    }
   },
   "source": [
    "# Simple examples of how to work with dictionaries in python\n",
    "telephone_book = {'jack': 4098, 'sape': 4139}\n",
    "telephone_book"
   ],
   "outputs": [
    {
     "data": {
      "text/plain": [
       "{'jack': 4098, 'sape': 4139}"
      ]
     },
     "execution_count": 2,
     "metadata": {},
     "output_type": "execute_result"
    }
   ],
   "execution_count": 2
  },
  {
   "metadata": {
    "ExecuteTime": {
     "end_time": "2025-03-23T08:41:29.976968Z",
     "start_time": "2025-03-23T08:41:29.973297Z"
    }
   },
   "cell_type": "code",
   "source": [
    "telephone_book['guido'] = 4127\n",
    "telephone_book"
   ],
   "id": "7acc82dea86afef9",
   "outputs": [
    {
     "data": {
      "text/plain": [
       "{'jack': 4098, 'sape': 4139, 'guido': 4127}"
      ]
     },
     "execution_count": 3,
     "metadata": {},
     "output_type": "execute_result"
    }
   ],
   "execution_count": 3
  },
  {
   "metadata": {
    "ExecuteTime": {
     "end_time": "2025-03-23T08:41:47.488522Z",
     "start_time": "2025-03-23T08:41:47.485535Z"
    }
   },
   "cell_type": "code",
   "source": "telephone_book['jack']",
   "id": "e5e9c7c9d4a32cec",
   "outputs": [
    {
     "data": {
      "text/plain": [
       "4098"
      ]
     },
     "execution_count": 4,
     "metadata": {},
     "output_type": "execute_result"
    }
   ],
   "execution_count": 4
  },
  {
   "metadata": {
    "ExecuteTime": {
     "end_time": "2025-03-23T08:42:11.058506Z",
     "start_time": "2025-03-23T08:42:11.054985Z"
    }
   },
   "cell_type": "code",
   "source": [
    "del telephone_book['sape']\n",
    "telephone_book"
   ],
   "id": "6af10ec2ee41820d",
   "outputs": [
    {
     "data": {
      "text/plain": [
       "{'jack': 4098, 'guido': 4127}"
      ]
     },
     "execution_count": 5,
     "metadata": {},
     "output_type": "execute_result"
    }
   ],
   "execution_count": 5
  },
  {
   "metadata": {
    "ExecuteTime": {
     "end_time": "2025-03-23T08:43:27.172407Z",
     "start_time": "2025-03-23T08:43:27.166586Z"
    }
   },
   "cell_type": "code",
   "source": [
    "telephone_book['irv'] = 4127\n",
    "#Make a list of keys of our dictionary\n",
    "list(telephone_book)"
   ],
   "id": "390d3d7a7e16c6b2",
   "outputs": [
    {
     "data": {
      "text/plain": [
       "['jack', 'guido', 'irv']"
      ]
     },
     "execution_count": 6,
     "metadata": {},
     "output_type": "execute_result"
    }
   ],
   "execution_count": 6
  },
  {
   "metadata": {
    "ExecuteTime": {
     "end_time": "2025-03-23T08:44:14.150829Z",
     "start_time": "2025-03-23T08:44:14.146339Z"
    }
   },
   "cell_type": "code",
   "source": [
    "# Make a sorted list of keys of our dictionary\n",
    "sorted(telephone_book)"
   ],
   "id": "9e7c2e229d2e73ab",
   "outputs": [
    {
     "data": {
      "text/plain": [
       "['guido', 'irv', 'jack']"
      ]
     },
     "execution_count": 7,
     "metadata": {},
     "output_type": "execute_result"
    }
   ],
   "execution_count": 7
  },
  {
   "metadata": {
    "ExecuteTime": {
     "end_time": "2025-03-23T08:45:22.888194Z",
     "start_time": "2025-03-23T08:45:22.882862Z"
    }
   },
   "cell_type": "code",
   "source": [
    "# check if a specific key exists in our dictionary\n",
    "'guido' in telephone_book"
   ],
   "id": "48fd65124f6d8cf0",
   "outputs": [
    {
     "data": {
      "text/plain": [
       "True"
      ]
     },
     "execution_count": 8,
     "metadata": {},
     "output_type": "execute_result"
    }
   ],
   "execution_count": 8
  },
  {
   "metadata": {
    "ExecuteTime": {
     "end_time": "2025-03-23T08:45:43.388004Z",
     "start_time": "2025-03-23T08:45:43.384166Z"
    }
   },
   "cell_type": "code",
   "source": "'jack' not in telephone_book",
   "id": "46d2adda6f72f515",
   "outputs": [
    {
     "data": {
      "text/plain": [
       "False"
      ]
     },
     "execution_count": 9,
     "metadata": {},
     "output_type": "execute_result"
    }
   ],
   "execution_count": 9
  },
  {
   "metadata": {
    "ExecuteTime": {
     "end_time": "2025-03-23T08:45:47.763191Z",
     "start_time": "2025-03-23T08:45:47.759298Z"
    }
   },
   "cell_type": "code",
   "source": "telephone_book",
   "id": "2080b9cd218abf06",
   "outputs": [
    {
     "data": {
      "text/plain": [
       "{'jack': 4098, 'guido': 4127, 'irv': 4127}"
      ]
     },
     "execution_count": 10,
     "metadata": {},
     "output_type": "execute_result"
    }
   ],
   "execution_count": 10
  },
  {
   "metadata": {
    "ExecuteTime": {
     "end_time": "2025-03-23T08:47:56.973796Z",
     "start_time": "2025-03-23T08:47:56.969554Z"
    }
   },
   "cell_type": "code",
   "source": [
    "# Make a dictionary from a list of key-value tuples\n",
    "example_dictionary_2 = dict([('sape', 4139), ('guido', 4127), ('jack', 4098)])\n",
    "example_dictionary_2"
   ],
   "id": "867f44a3216eacd7",
   "outputs": [
    {
     "data": {
      "text/plain": [
       "{'sape': 4139, 'guido': 4127, 'jack': 4098}"
      ]
     },
     "execution_count": 11,
     "metadata": {},
     "output_type": "execute_result"
    }
   ],
   "execution_count": 11
  },
  {
   "metadata": {
    "ExecuteTime": {
     "end_time": "2025-03-23T08:51:12.971945Z",
     "start_time": "2025-03-23T08:51:12.965899Z"
    }
   },
   "cell_type": "code",
   "source": [
    "# dictionary comprehensions\n",
    "example_dictionary_3 = {x: x ** 2 for x in (3, 7, 8, 4, 5, 6)}\n",
    "example_dictionary_3"
   ],
   "id": "d40a5dd3e9dfeed",
   "outputs": [
    {
     "data": {
      "text/plain": [
       "{3: 9, 7: 49, 8: 64, 4: 16, 5: 25, 6: 36}"
      ]
     },
     "execution_count": 12,
     "metadata": {},
     "output_type": "execute_result"
    }
   ],
   "execution_count": 12
  },
  {
   "metadata": {
    "ExecuteTime": {
     "end_time": "2025-03-23T08:53:41.547199Z",
     "start_time": "2025-03-23T08:53:41.542993Z"
    }
   },
   "cell_type": "code",
   "source": [
    "example_dictionary_4 = dict(sape=4139, guido=4127, jack=4098)\n",
    "example_dictionary_4"
   ],
   "id": "a5b9bd37258d132",
   "outputs": [
    {
     "data": {
      "text/plain": [
       "{'sape': 4139, 'guido': 4127, 'jack': 4098}"
      ]
     },
     "execution_count": 13,
     "metadata": {},
     "output_type": "execute_result"
    }
   ],
   "execution_count": 13
  },
  {
   "metadata": {},
   "cell_type": "code",
   "outputs": [],
   "execution_count": null,
   "source": "",
   "id": "2dd4bcf7769969b2"
  }
 ],
 "metadata": {
  "kernelspec": {
   "display_name": "Python 3",
   "language": "python",
   "name": "python3"
  },
  "language_info": {
   "codemirror_mode": {
    "name": "ipython",
    "version": 2
   },
   "file_extension": ".py",
   "mimetype": "text/x-python",
   "name": "python",
   "nbconvert_exporter": "python",
   "pygments_lexer": "ipython2",
   "version": "2.7.6"
  }
 },
 "nbformat": 4,
 "nbformat_minor": 5
}
