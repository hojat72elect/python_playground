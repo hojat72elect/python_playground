{
 "cells": [
  {
   "metadata": {},
   "cell_type": "markdown",
   "source": [
    "This is how we perform list comprehensions easily in python. \n",
    "Important thing is to use as less system resources as possible."
   ],
   "id": "cb8ff58ccf206da9"
  },
  {
   "metadata": {
    "ExecuteTime": {
     "end_time": "2025-03-20T21:21:28.202745Z",
     "start_time": "2025-03-20T21:21:28.152995Z"
    }
   },
   "cell_type": "code",
   "source": [
    "# Example 1 : perform operations on a list with a simple \"for loop\"\n",
    "squares_example_1 = []\n",
    "for x in range(10):\n",
    "    squares_example_1.append(x ** 2)\n",
    "\n",
    "squares_example_1"
   ],
   "id": "2e393a3b0257257e",
   "outputs": [
    {
     "data": {
      "text/plain": [
       "[0, 1, 4, 9, 16, 25, 36, 49, 64, 81]"
      ]
     },
     "execution_count": 1,
     "metadata": {},
     "output_type": "execute_result"
    }
   ],
   "execution_count": 1
  },
  {
   "metadata": {},
   "cell_type": "markdown",
   "source": "",
   "id": "ae2423ea01d4754d"
  },
  {
   "cell_type": "code",
   "id": "initial_id",
   "metadata": {
    "collapsed": true,
    "ExecuteTime": {
     "end_time": "2025-03-20T21:44:03.438424Z",
     "start_time": "2025-03-20T21:44:03.434583Z"
    }
   },
   "source": [
    "# Example 2 : But we can achieve the exact same goal without any side effects. \n",
    "squares_example_2 = list(map(lambda y: 2 * y, range(10)))\n",
    "squares_example_2"
   ],
   "outputs": [
    {
     "data": {
      "text/plain": [
       "[0, 2, 4, 6, 8, 10, 12, 14, 16, 18]"
      ]
     },
     "execution_count": 2,
     "metadata": {},
     "output_type": "execute_result"
    }
   ],
   "execution_count": 2
  },
  {
   "metadata": {
    "ExecuteTime": {
     "end_time": "2025-03-20T21:53:03.841719Z",
     "start_time": "2025-03-20T21:53:03.836932Z"
    }
   },
   "cell_type": "code",
   "source": [
    "# Example 3 : But when we talk about inline list comprehension, we generally mean something like this: \n",
    "squares_example_3 = [3 * y for y in range(11)]\n",
    "squares_example_3"
   ],
   "id": "fcda7c525d36fe23",
   "outputs": [
    {
     "data": {
      "text/plain": [
       "[0, 3, 6, 9, 12, 15, 18, 21, 24, 27, 30]"
      ]
     },
     "execution_count": 3,
     "metadata": {},
     "output_type": "execute_result"
    }
   ],
   "execution_count": 3
  },
  {
   "metadata": {
    "ExecuteTime": {
     "end_time": "2025-03-20T22:04:50.324008Z",
     "start_time": "2025-03-20T22:04:50.317407Z"
    }
   },
   "cell_type": "code",
   "source": [
    "# Example 4 : a complete example of inline list comprehension in python.\n",
    "list_of_tuples_1 = [(z, y) for z in [3, 7, 4, 8, 5, 6] for y in [2, 3, 7, 8] if z != y]\n",
    "list_of_tuples_1"
   ],
   "id": "a87d09eee921b712",
   "outputs": [
    {
     "data": {
      "text/plain": [
       "[(3, 2),\n",
       " (3, 7),\n",
       " (3, 8),\n",
       " (7, 2),\n",
       " (7, 3),\n",
       " (7, 8),\n",
       " (4, 2),\n",
       " (4, 3),\n",
       " (4, 7),\n",
       " (4, 8),\n",
       " (8, 2),\n",
       " (8, 3),\n",
       " (8, 7),\n",
       " (5, 2),\n",
       " (5, 3),\n",
       " (5, 7),\n",
       " (5, 8),\n",
       " (6, 2),\n",
       " (6, 3),\n",
       " (6, 7),\n",
       " (6, 8)]"
      ]
     },
     "execution_count": 4,
     "metadata": {},
     "output_type": "execute_result"
    }
   ],
   "execution_count": 4
  },
  {
   "metadata": {},
   "cell_type": "code",
   "outputs": [],
   "execution_count": null,
   "source": "",
   "id": "f7e4018dc3d514d0"
  }
 ],
 "metadata": {
  "kernelspec": {
   "display_name": "Python 3",
   "language": "python",
   "name": "python3"
  },
  "language_info": {
   "codemirror_mode": {
    "name": "ipython",
    "version": 2
   },
   "file_extension": ".py",
   "mimetype": "text/x-python",
   "name": "python",
   "nbconvert_exporter": "python",
   "pygments_lexer": "ipython2",
   "version": "2.7.6"
  }
 },
 "nbformat": 4,
 "nbformat_minor": 5
}
