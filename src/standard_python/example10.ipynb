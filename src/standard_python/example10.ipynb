{
 "cells": [
  {
   "cell_type": "code",
   "id": "initial_id",
   "metadata": {
    "collapsed": true,
    "ExecuteTime": {
     "end_time": "2025-03-23T06:04:15.601401Z",
     "start_time": "2025-03-23T06:04:15.596570Z"
    }
   },
   "source": [
    "\"\"\"\n",
    "Using the `del` statement for professionally cleaning a list of data.\n",
    "\"\"\"\n",
    "list_of_numbers = [3, 8, 4, 7, 5, 6, 3]\n",
    "list_of_numbers"
   ],
   "outputs": [
    {
     "data": {
      "text/plain": [
       "[3, 8, 4, 7, 5, 6, 3]"
      ]
     },
     "execution_count": 3,
     "metadata": {},
     "output_type": "execute_result"
    }
   ],
   "execution_count": 3
  },
  {
   "metadata": {
    "ExecuteTime": {
     "end_time": "2025-03-23T06:04:17.133094Z",
     "start_time": "2025-03-23T06:04:17.127729Z"
    }
   },
   "cell_type": "code",
   "source": [
    "del list_of_numbers[3]\n",
    "list_of_numbers"
   ],
   "id": "a11a7abb39bddf0f",
   "outputs": [
    {
     "data": {
      "text/plain": [
       "[3, 8, 4, 5, 6, 3]"
      ]
     },
     "execution_count": 4,
     "metadata": {},
     "output_type": "execute_result"
    }
   ],
   "execution_count": 4
  },
  {
   "metadata": {
    "ExecuteTime": {
     "end_time": "2025-03-23T06:05:33.788520Z",
     "start_time": "2025-03-23T06:05:33.782031Z"
    }
   },
   "cell_type": "code",
   "source": [
    "del list_of_numbers[2:4]\n",
    "list_of_numbers"
   ],
   "id": "7dc64a6769f19e4e",
   "outputs": [
    {
     "data": {
      "text/plain": [
       "[3, 8, 6, 3]"
      ]
     },
     "execution_count": 5,
     "metadata": {},
     "output_type": "execute_result"
    }
   ],
   "execution_count": 5
  },
  {
   "metadata": {
    "ExecuteTime": {
     "end_time": "2025-03-23T06:06:05.162368Z",
     "start_time": "2025-03-23T06:06:05.157272Z"
    }
   },
   "cell_type": "code",
   "source": [
    "del list_of_numbers[:]\n",
    "list_of_numbers"
   ],
   "id": "db020282c6307de4",
   "outputs": [
    {
     "data": {
      "text/plain": [
       "[]"
      ]
     },
     "execution_count": 6,
     "metadata": {},
     "output_type": "execute_result"
    }
   ],
   "execution_count": 6
  },
  {
   "metadata": {},
   "cell_type": "code",
   "outputs": [],
   "execution_count": null,
   "source": "",
   "id": "3c5315f0c1d3320"
  }
 ],
 "metadata": {
  "kernelspec": {
   "display_name": "Python 3",
   "language": "python",
   "name": "python3"
  },
  "language_info": {
   "codemirror_mode": {
    "name": "ipython",
    "version": 2
   },
   "file_extension": ".py",
   "mimetype": "text/x-python",
   "name": "python",
   "nbconvert_exporter": "python",
   "pygments_lexer": "ipython2",
   "version": "2.7.6"
  }
 },
 "nbformat": 4,
 "nbformat_minor": 5
}
