{
 "cells": [
  {
   "cell_type": "code",
   "id": "initial_id",
   "metadata": {
    "collapsed": true,
    "ExecuteTime": {
     "end_time": "2025-03-23T09:00:33.989258Z",
     "start_time": "2025-03-23T09:00:33.981485Z"
    }
   },
   "source": [
    "\"\"\"\n",
    "Using the `del` statement for professionally cleaning a list of data.\n",
    "\"\"\"\n",
    "list_of_numbers = [3, 8, 4, 7, 5, 6, 3]\n",
    "list_of_numbers"
   ],
   "outputs": [
    {
     "data": {
      "text/plain": [
       "[3, 8, 4, 7, 5, 6, 3]"
      ]
     },
     "execution_count": 1,
     "metadata": {},
     "output_type": "execute_result"
    }
   ],
   "execution_count": 1
  },
  {
   "metadata": {
    "ExecuteTime": {
     "end_time": "2025-03-23T09:00:33.994220Z",
     "start_time": "2025-03-23T09:00:33.990553Z"
    }
   },
   "cell_type": "code",
   "source": [
    "del list_of_numbers[3]\n",
    "list_of_numbers"
   ],
   "id": "a11a7abb39bddf0f",
   "outputs": [
    {
     "data": {
      "text/plain": [
       "[3, 8, 4, 5, 6, 3]"
      ]
     },
     "execution_count": 2,
     "metadata": {},
     "output_type": "execute_result"
    }
   ],
   "execution_count": 2
  },
  {
   "metadata": {
    "ExecuteTime": {
     "end_time": "2025-03-23T09:00:33.998971Z",
     "start_time": "2025-03-23T09:00:33.995698Z"
    }
   },
   "cell_type": "code",
   "source": [
    "del list_of_numbers[2:4]\n",
    "list_of_numbers"
   ],
   "id": "7dc64a6769f19e4e",
   "outputs": [
    {
     "data": {
      "text/plain": [
       "[3, 8, 6, 3]"
      ]
     },
     "execution_count": 3,
     "metadata": {},
     "output_type": "execute_result"
    }
   ],
   "execution_count": 3
  },
  {
   "metadata": {
    "ExecuteTime": {
     "end_time": "2025-03-23T09:00:34.003296Z",
     "start_time": "2025-03-23T09:00:34.000531Z"
    }
   },
   "cell_type": "code",
   "source": [
    "del list_of_numbers[:]\n",
    "list_of_numbers"
   ],
   "id": "db020282c6307de4",
   "outputs": [
    {
     "data": {
      "text/plain": [
       "[]"
      ]
     },
     "execution_count": 4,
     "metadata": {},
     "output_type": "execute_result"
    }
   ],
   "execution_count": 4
  },
  {
   "metadata": {
    "ExecuteTime": {
     "end_time": "2025-03-23T09:00:34.006333Z",
     "start_time": "2025-03-23T09:00:34.004343Z"
    }
   },
   "cell_type": "code",
   "source": "del list_of_numbers\n",
   "id": "3c5315f0c1d3320",
   "outputs": [],
   "execution_count": 5
  },
  {
   "metadata": {
    "ExecuteTime": {
     "end_time": "2025-03-23T09:00:34.214724Z",
     "start_time": "2025-03-23T09:00:34.007614Z"
    }
   },
   "cell_type": "code",
   "source": "list_of_numbers  # will throw runtime error",
   "id": "a474fc0e9a146b30",
   "outputs": [
    {
     "ename": "NameError",
     "evalue": "name 'list_of_numbers' is not defined",
     "output_type": "error",
     "traceback": [
      "\u001B[31m---------------------------------------------------------------------------\u001B[39m",
      "\u001B[31mNameError\u001B[39m                                 Traceback (most recent call last)",
      "\u001B[36mCell\u001B[39m\u001B[36m \u001B[39m\u001B[32mIn[6]\u001B[39m\u001B[32m, line 1\u001B[39m\n\u001B[32m----> \u001B[39m\u001B[32m1\u001B[39m \u001B[43mlist_of_numbers\u001B[49m \u001B[38;5;66;03m# will throw runtime error\u001B[39;00m\n",
      "\u001B[31mNameError\u001B[39m: name 'list_of_numbers' is not defined"
     ]
    }
   ],
   "execution_count": 6
  },
  {
   "metadata": {
    "ExecuteTime": {
     "end_time": "2025-03-23T09:02:28.184286Z",
     "start_time": "2025-03-23T09:02:28.178702Z"
    }
   },
   "cell_type": "code",
   "source": [
    "# iterating through a list by having indices and values.\n",
    "for index, value in enumerate(['tic', 'tac', 'toe']):\n",
    "    print(f\"{index} - {value}\")"
   ],
   "id": "2de80cf8265afceb",
   "outputs": [
    {
     "name": "stdout",
     "output_type": "stream",
     "text": [
      "0 - tic\n",
      "1 - tac\n",
      "2 - toe\n"
     ]
    }
   ],
   "execution_count": 7
  },
  {
   "metadata": {
    "ExecuteTime": {
     "end_time": "2025-03-23T09:13:31.644756Z",
     "start_time": "2025-03-23T09:13:31.641870Z"
    }
   },
   "cell_type": "code",
   "source": [
    "# you can also loop through 2 sequences at the same time, if you use zip() function over them\n",
    "questions = ['name', 'quest', 'favorite color']\n",
    "answers = ['lancelot', 'the holy grail', 'blue']\n",
    "\n",
    "for question, answer in zip(questions, answers):\n",
    "    print(f\"What is your {question} ? It's {answer}.\")"
   ],
   "id": "e792e4b16f9cde7",
   "outputs": [
    {
     "name": "stdout",
     "output_type": "stream",
     "text": [
      "What is your name ? It's lancelot.\n",
      "What is your quest ? It's the holy grail.\n",
      "What is your favorite color ? It's blue.\n"
     ]
    }
   ],
   "execution_count": 9
  },
  {
   "metadata": {
    "ExecuteTime": {
     "end_time": "2025-03-23T09:18:27.276694Z",
     "start_time": "2025-03-23T09:18:27.272441Z"
    }
   },
   "cell_type": "code",
   "source": [
    "# Looping through a list; in a sorted fashion\n",
    "basket = ['apple', 'orange', 'apple', 'pear', 'orange', 'banana']\n",
    "for item in sorted(basket):\n",
    "    print(item)"
   ],
   "id": "c77a9e7977aaf4f3",
   "outputs": [
    {
     "name": "stdout",
     "output_type": "stream",
     "text": [
      "apple\n",
      "apple\n",
      "banana\n",
      "orange\n",
      "orange\n",
      "pear\n"
     ]
    }
   ],
   "execution_count": 1
  },
  {
   "metadata": {},
   "cell_type": "code",
   "outputs": [],
   "execution_count": null,
   "source": "",
   "id": "ea7a004ed283d544"
  }
 ],
 "metadata": {
  "kernelspec": {
   "display_name": "Python 3",
   "language": "python",
   "name": "python3"
  },
  "language_info": {
   "codemirror_mode": {
    "name": "ipython",
    "version": 2
   },
   "file_extension": ".py",
   "mimetype": "text/x-python",
   "name": "python",
   "nbconvert_exporter": "python",
   "pygments_lexer": "ipython2",
   "version": "2.7.6"
  }
 },
 "nbformat": 4,
 "nbformat_minor": 5
}
